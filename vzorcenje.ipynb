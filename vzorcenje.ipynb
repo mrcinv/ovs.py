{
 "cells": [
  {
   "cell_type": "markdown",
   "metadata": {},
   "source": [
    "# Vzorčenje\n",
    "\n",
    "Ta dokument lahko poženete ali pregledate v brskalniku\n",
    "\n",
    "[![Binder](https://mybinder.org/badge.svg)](https://mybinder.org/v2/gh/mrcinv/ovs.py/master) \n",
    "<a href=\"https://nbviewer.jupyter.org/github/mrcinv/ovs.py/blob/master/vzorcenje.ipynb\">\n",
    "    <img width=\"109\" height=\"20\" src=\"https://raw.githubusercontent.com/jupyter/design/master/logos/Badges/nbviewer_badge.png\"/>\n",
    "</a>\n",
    "\n",
    "Ta dokument si lahko prenesete na svoj računalnik in poženete, tako da v terminalu napišete naslednje\n",
    "\n",
    "    git clone https://github.com/mrcinv/ovs.py.git\n",
    "    cd ovs.py\n",
    "    jupyter-notebook &"
   ]
  },
  {
   "cell_type": "markdown",
   "metadata": {},
   "source": [
    "# Vzorčenje slučajnih spremenljivk\n",
    "\n",
    "Naj bo $X:\\Omega\\to Z_X$ slučajna spremenljivka. *Enostavni slučajni vzorec* velikosti $n$ je $n$-terica vrednosti $(x_1, x_2, \\ldots x_n)$, ki jo dobimo tako, da enakomerno in neodvisno naključno izbiramo elemente iz $\\Omega$ in na njih izračunamo vrednosti spremenljivke $X$. \n",
    "\n",
    "Enostavni slučajni vzorec si lahko predstavljamo tudi kot vrednost slučajnega vektorja $(X_1, X_2, \\ldots X_n)$, kjer so spremenljivke $X_i; i=1,2,\\ldots n$ enako porazdeljene in neodvisne.  \n",
    "\n",
    "Na $\\Omega$ pogosto ne moremo definirati enakomerne porazdelitve (recimo, če je $\\Omega$ neomejena npr. $\\mathbb{N}$ ali $\\mathbb{R}$). V tem primeru uporabimo definicijo, da je enostavni slučajni vzorec vrednost slučajnega vektorja\n",
    "$$(X_1,X_2, \\ldots X_n).$$"
   ]
  },
  {
   "cell_type": "markdown",
   "metadata": {},
   "source": [
    "## Naloga 1\n",
    "\n",
    "Generiraj vzorce različnih dolžin za naslednje slučajne spremenljivke:\n",
    "\n",
    " 1. pošten kovanec: $X$ je $0$, če pade grb in $1$, če pade cifra. ($X\\sim B(1,\\frac{1}{2})$)\n",
    " 2. $X$ je število pik na kocki.\n",
    " 3. $X$ je enakomerno porazdeljena na $[1,5]$\n",
    " 4. $X\\sim N(5,1)$\n",
    " \n",
    "Vzorce prdstavi tudi grafično (z razsevnim diagramom in histogramom)."
   ]
  },
  {
   "cell_type": "code",
   "execution_count": null,
   "metadata": {},
   "outputs": [],
   "source": []
  },
  {
   "cell_type": "markdown",
   "metadata": {},
   "source": [
    "## Naloga 2\n",
    "\n",
    "Generiraj vzorce porazdelitev, ki niso vgrajene v Python? \n",
    " 1. $$X\\sim \\begin{pmatrix} 1& 2& 3& 4\\cr \n",
    "                               0.1 & 0.2 & 0.3 & 0.4\\end{pmatrix}$$\n",
    " 2. $X^2+1$\n",
    " 3. $X+Y^2$, kjer je $Y\\sim B(10,1)$\n",
    " 4. $$X\\sim \\begin{pmatrix} -1& 3 & 5 & 7 & 10\\cr\n",
    "                            0.2 & 0.1 & 0.1 & 0.2 & 0.4\\end{pmatrix}.$$"
   ]
  },
  {
   "cell_type": "code",
   "execution_count": null,
   "metadata": {},
   "outputs": [],
   "source": []
  },
  {
   "cell_type": "markdown",
   "metadata": {},
   "source": [
    "## Naloga 3\n",
    "Kaj pa če je $X$ zvezno porazdeljena? Generiraj vzorce za naslednje spremenljivke:\n",
    "\n",
    " 1. $X\\in [0, 2]$ z gostoto $p_X(x)=x/2$. \n",
    " 2. $X\\in Exp(0.5)$\n",
    " \n",
    "### Rešitev\n",
    "Naredimo podobno kot pri diskretni porazdelitvi. Potrebujemo kumulativno porazdelitveno funkcijo. \n",
    "\n",
    "Naj bo $U\\sim E([0,1])$ enakomerno porazdeljen slučajna spremenljivka na $[0,1]$. Naj bo $X$ slučajna spremenljivka z porazdelitveno funkcijo $F_X(x)$. Potem je slučajna spremenljivka $Y = F_X^{-1}(U)$ enako porazdeljena kot $X$ (prepričaj se sam, tako da izračunaš porazdelitveno funkcijo za $Y$). "
   ]
  },
  {
   "cell_type": "code",
   "execution_count": null,
   "metadata": {},
   "outputs": [],
   "source": []
  },
  {
   "cell_type": "markdown",
   "metadata": {},
   "source": [
    "# Porazdelitve vzorčnih statistik\n",
    "\n",
    "**Vzorčno povprečje** je slučajna spremenljivka, ki je definirana kot\n",
    "\n",
    "$$ \\bar{x} = \\frac{1}{n}(X_1+X_2+\\ldots +X_n).$$\n",
    "\n",
    "**Vzorčni delež** je enak\n",
    "\n",
    "$$\\hat{p} = \\frac{1}{n}(A(X_1)+A(X_2)+\\ldots + A(X_n)) = \\frac{k}{n},$$\n",
    "kjer je $k$ število vrednosti v vzorcu, ki so v $A$ in $$A(x)=\\begin{cases}1;& x\\in A\\\\ 0; & x\\not\\in A\\end{cases}$$\n",
    "\n",
    "**Popravljen vzorčni standardni odklon** je enak\n",
    "\n",
    "$$ s= \\sqrt{\\frac{1}{n-1}\\left((X_1-\\bar{x})^2+(X_2-\\bar{x})^2+\\ldots (X_n-\\bar{x})^2\\right)}$$\n"
   ]
  },
  {
   "cell_type": "code",
   "execution_count": null,
   "metadata": {},
   "outputs": [],
   "source": []
  },
  {
   "cell_type": "markdown",
   "metadata": {},
   "source": [
    "## Naloga 4\n",
    "\n",
    "Za slučajno spremenljivko $X$, ki šteje število pik na kocki\n",
    " 1. generiraj histogram vzorčnega povprečja\n",
    " 2. generiraj histogram vzorčnega deleža za vrednosti, ki so manjše ali enake 2.\n",
    " 3. generiraj histogram popravljenega vzorčnega standardnega odklona\n",
    " \n",
    "za vzorce velikosti $n=5, 15, 100, 1000, \\ldots$. \n"
   ]
  },
  {
   "cell_type": "code",
   "execution_count": null,
   "metadata": {},
   "outputs": [],
   "source": []
  },
  {
   "cell_type": "markdown",
   "metadata": {},
   "source": [
    "## Naloga 5\n",
    "\n",
    "V naložite podatke o potresih na Fidjiju `quakes` iz podatkov iz R-ja. Narišite histogram za magnitude in globine.\n",
    "\n",
    "Izračunajte povprečno globino in delež potresov globljih od 300km.\n",
    "\n",
    "Generirajte vzorce velikosti $10, 50, 200$ in narišite histogram vzorčnega povprečja in vzorčnega deleža."
   ]
  },
  {
   "cell_type": "code",
   "execution_count": null,
   "metadata": {},
   "outputs": [],
   "source": []
  }
 ],
 "metadata": {
  "kernelspec": {
   "display_name": "Python 3",
   "language": "python",
   "name": "python3"
  },
  "language_info": {
   "codemirror_mode": {
    "name": "ipython",
    "version": 3
   },
   "file_extension": ".py",
   "mimetype": "text/x-python",
   "name": "python",
   "nbconvert_exporter": "python",
   "pygments_lexer": "ipython3",
   "version": "3.6.7"
  }
 },
 "nbformat": 4,
 "nbformat_minor": 2
}
