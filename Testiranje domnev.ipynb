{
 "cells": [
  {
   "cell_type": "markdown",
   "metadata": {},
   "source": [
    "# Testiranje domnev\n",
    "Postopek za testiranje domnev:\n",
    " 1. Postavimo ničelno in alternativno domnevo $H_0$ in $H_a$\n",
    " 2. Zberemo podatke in izračunamo testno statistiko (TS)\n",
    " 3. Določimo kritično območje za testno statistiko\n",
    " 4. Sklepamo\n",
    "Vsak od teh korakov je opisan podrobneje v nadaljevanju."
   ]
  },
  {
   "cell_type": "markdown",
   "metadata": {},
   "source": [
    "## Naloga: povprečna višina\n",
    "Preveriti želimo, ali je povprečna telesna višina moškega študenta enaka $180$cm. Postavimo dve domnevi\n",
    " * ničelno domnevo: $H_0: \\mu=180$cm\n",
    " * alternativno domnevo: $H_a: \\mu \\not=180$cm\n",
    " \n",
    "s testom bomo preverili, kako se ničelna domneva ujema z zbranimi podatki."
   ]
  },
  {
   "cell_type": "code",
   "execution_count": 1,
   "metadata": {},
   "outputs": [],
   "source": [
    "x = [180, 183, 173, 171, 180, 183, 172, 178, 188, 175, 183, 179, 185, 195, 169]"
   ]
  },
  {
   "cell_type": "code",
   "execution_count": 2,
   "metadata": {},
   "outputs": [],
   "source": [
    "from statistics import mean, stdev"
   ]
  },
  {
   "cell_type": "code",
   "execution_count": 3,
   "metadata": {},
   "outputs": [
    {
     "data": {
      "text/plain": [
       "179.6"
      ]
     },
     "execution_count": 3,
     "metadata": {},
     "output_type": "execute_result"
    }
   ],
   "source": [
    "xp = mean(x)\n",
    "xp"
   ]
  },
  {
   "cell_type": "code",
   "execution_count": 4,
   "metadata": {},
   "outputs": [
    {
     "data": {
      "text/plain": [
       "6.987744373442078"
      ]
     },
     "execution_count": 4,
     "metadata": {},
     "output_type": "execute_result"
    }
   ],
   "source": [
    "s = stdev(x)\n",
    "s"
   ]
  },
  {
   "cell_type": "markdown",
   "metadata": {},
   "source": [
    "### Testna statistika\n",
    "Če testiramo $H_0: \\mu = \\mu_0$, potem je testna statistika ena od naslednjih možnosti:\n",
    " * če $\\sigma$ ne poznamo $$TS = \\frac{\\bar{x}-\\mu_0}{s}\\sqrt{n}\\sim Student(n-1)$$\n",
    " * če $\\sigma$ poznamo $$TS = \\frac{\\bar{x}-\\mu_0}{\\sigma}\\sqrt{n}\\sim N(0,1)$$"
   ]
  },
  {
   "cell_type": "code",
   "execution_count": 6,
   "metadata": {},
   "outputs": [
    {
     "data": {
      "text/plain": [
       "-0.22170148987861085"
      ]
     },
     "execution_count": 6,
     "metadata": {},
     "output_type": "execute_result"
    }
   ],
   "source": [
    "from math import sqrt\n",
    "mu_0 = 180\n",
    "n = len(x)\n",
    "TS = (xp - mu_0)/s*sqrt(n)\n",
    "TS"
   ]
  },
  {
   "cell_type": "markdown",
   "metadata": {},
   "source": [
    "#### Kritično območje\n",
    "Kritično območje je interval „nenavadnih vrednosti“ za dano porazdelitev. Kritično območje je odvisno od stopnje značilnosti $\\alpha$.\n",
    " * dvostranski test $H_a: \\mu\\not=\\mu_0$ je kritično območje $(-\\infty, -w_k] \\cup [w_k, \\infty)$\n",
    " * za enostranski test $Ha: \\mu>\\mu_0$ je kritično območje $[w_k, \\infty)$\n",
    " \n",
    "Rob kritičnega območja $w_k$ določimo kot kvantil za\n",
    " * dvostranski test: kvatnil za $1-\\frac{\\alpha}{2}$ se pravi $w_k = t_{1-\\frac{\\alpha}{2}}(n-1)$\n",
    " * enostranski test: kvantil za $1-\\alpha$ se pravi $w_k = t_{1-\\alpha}(n-1)$"
   ]
  },
  {
   "cell_type": "code",
   "execution_count": 7,
   "metadata": {},
   "outputs": [],
   "source": [
    "# Studentova porazdelitev\n",
    "from scipy.stats import t"
   ]
  },
  {
   "cell_type": "code",
   "execution_count": 9,
   "metadata": {},
   "outputs": [
    {
     "name": "stdout",
     "output_type": "stream",
     "text": [
      "Kritično območje: (-neskončno, -1.7613101357748562] U [1.7613101357748562, neskončno)\n"
     ]
    }
   ],
   "source": [
    "alfa = 0.1 # 10 procentov\n",
    "wk = t.ppf(1-alfa/2, n-1)\n",
    "print(\"Kritično območje: (-neskončno, {}] U [{}, neskončno)\".format(-wk,wk))"
   ]
  },
  {
   "cell_type": "markdown",
   "metadata": {},
   "source": [
    "### Sklep\n",
    "\n",
    " * Če je testna statistika v kritičnem območju $TS\\in W_k$, potem $H_0$ zavrnemo v prid $H_a$\n",
    " * Če testna statistika ni v kritičnem območju, potem $H_0$ ne moremo zavrniti (podatki so skladni s $H_0$)\n",
    "\n",
    "Torej: podatki so skladni z domnevo, da je $\\mu=180$cm"
   ]
  },
  {
   "cell_type": "markdown",
   "metadata": {},
   "source": [
    "## Testiranje $\\sigma$"
   ]
  },
  {
   "cell_type": "markdown",
   "metadata": {},
   "source": [
    "V tovarni proizvajajo cevi izbrane dolžine.  Trdijo, da je standardna napaka izdelane\n",
    "cevi  manjša  od  1.2cm.   Na  25  ceveh  dobimo  vzorčni  odklon  1.5cm.   Ali  lahko  na\n",
    "podlagi vzorca pri \n",
    "\n",
    "α = 0.05 \n",
    "\n",
    "zavrnemo trditev tovarne?  Kaj pa na vzorcu 101 cevi?"
   ]
  },
  {
   "cell_type": "code",
   "execution_count": 10,
   "metadata": {},
   "outputs": [],
   "source": [
    "sigma_0 = 1.2\n",
    "s = 1.5\n",
    "n = 25\n",
    "alfa = 0.05"
   ]
  },
  {
   "cell_type": "markdown",
   "metadata": {},
   "source": [
    "### 1. Postavimo domneve\n",
    "\n",
    " * ničelna domneva: $H_0: \\sigma=1.2$\n",
    " * alternativna domneva $H_a: \\sigma > 1.2$"
   ]
  },
  {
   "cell_type": "markdown",
   "metadata": {},
   "source": [
    "### 2. Vzorčenje in testna statistika TS\n",
    "$TS = (n-1)\\frac{s^2}{\\sigma_0^2}\\sim \\chi^2(n-1)$ "
   ]
  },
  {
   "cell_type": "code",
   "execution_count": 11,
   "metadata": {},
   "outputs": [
    {
     "name": "stdout",
     "output_type": "stream",
     "text": [
      "Vrednost testne statistike je 37.5\n"
     ]
    }
   ],
   "source": [
    "TS = s**2/sigma_0**2*(n-1)\n",
    "print(\"Vrednost testne statistike je {}\".format(TS))"
   ]
  },
  {
   "cell_type": "markdown",
   "metadata": {},
   "source": [
    "### 3. Kritično območje\n",
    "Ali je $TS$ normalna? Primerjamo jo s kvantili za $\\chi^2(n-1)$\n",
    "\n",
    "Kritično območje je interval $[\\chi^2_{1-\\alpha}(n-1), \\infty)$"
   ]
  },
  {
   "cell_type": "code",
   "execution_count": 12,
   "metadata": {},
   "outputs": [],
   "source": [
    "from scipy.stats import chi2"
   ]
  },
  {
   "cell_type": "code",
   "execution_count": 13,
   "metadata": {},
   "outputs": [],
   "source": [
    "wk = chi2.ppf(1-alfa, n-1)"
   ]
  },
  {
   "cell_type": "code",
   "execution_count": 14,
   "metadata": {},
   "outputs": [
    {
     "name": "stdout",
     "output_type": "stream",
     "text": [
      "Kritično območje je [36.4150285018073, neskončno)\n"
     ]
    }
   ],
   "source": [
    "print(\"Kritično območje je [{}, neskončno)\".format(wk))"
   ]
  },
  {
   "cell_type": "markdown",
   "metadata": {},
   "source": [
    "### 4. Sklep\n",
    "Testna statistika **leži** v kritičnem območju, to pomeni, da $H_0$ zavrnemo v prid $H_a$."
   ]
  },
  {
   "cell_type": "markdown",
   "metadata": {},
   "source": [
    "### Volitve 2018\n",
    "Ali lahko na podlagi [ankete](http://www.delo.si/assets/media/other/20180311//politbarometer_marec2018copy.pdf) sklepamo, da se bo Desus prebil v parlament."
   ]
  },
  {
   "cell_type": "code",
   "execution_count": 21,
   "metadata": {},
   "outputs": [],
   "source": [
    "p_desus = 0.032\n",
    "p_levica = 0.049\n",
    "p_sls = 0.025\n",
    "n = 1010\n",
    "p_neodloceni = 0.25"
   ]
  },
  {
   "cell_type": "code",
   "execution_count": 18,
   "metadata": {},
   "outputs": [
    {
     "data": {
      "text/plain": [
       "0.03"
      ]
     },
     "execution_count": 18,
     "metadata": {},
     "output_type": "execute_result"
    }
   ],
   "source": [
    "p0 = 0.04*0.75/1\n",
    "p0"
   ]
  },
  {
   "cell_type": "markdown",
   "metadata": {},
   "source": [
    "### 1. postavimo domneve\n",
    " * $H_0: p_{sls} = 0.03$\n",
    " * $H_a: p_{sls} < 0.03$"
   ]
  },
  {
   "cell_type": "markdown",
   "metadata": {},
   "source": [
    "### 2. Testna statistika\n",
    "Za delež je TS\n",
    "\n",
    "$$TS = (p-p_0)\\sqrt{\\frac{n}{p_0(1-p_0)}}\\sim N(0,1)$$"
   ]
  },
  {
   "cell_type": "code",
   "execution_count": 27,
   "metadata": {},
   "outputs": [
    {
     "name": "stdout",
     "output_type": "stream",
     "text": [
      "SLS: -0.9315028687565687, Desus: 0.372601147502628, Levica: 3.5397109012749635\n"
     ]
    }
   ],
   "source": [
    "TS_sls = (p_sls - p0)*sqrt(n/(p0*(1 - p0)))\n",
    "TS_sls\n",
    "TS_levica = (p_levica - p0)*sqrt(n/(p0*(1 - p0)))\n",
    "TS_levica\n",
    "TS_desus = (p_desus - p0)*sqrt(n/(p0*(1 - p0)))\n",
    "print(\"SLS: {}, Desus: {}, Levica: {}\".format(TS_sls, TS_desus, TS_levica))"
   ]
  },
  {
   "cell_type": "markdown",
   "metadata": {},
   "source": [
    "### 3. Kritično območje"
   ]
  },
  {
   "cell_type": "code",
   "execution_count": 4,
   "metadata": {},
   "outputs": [
    {
     "name": "stdout",
     "output_type": "stream",
     "text": [
      "Kritično območje: (-neskončno, -2.3263478740408408)\n"
     ]
    }
   ],
   "source": [
    "alfa = 0.01\n",
    "from scipy.stats import norm\n",
    "wk = norm.ppf(1 - alfa)\n",
    "print(\"Kritično območje: (-neskončno, {})\".format(-wk))"
   ]
  },
  {
   "cell_type": "markdown",
   "metadata": {},
   "source": [
    "### 4. Sklep\n",
    "Testna statistika ni v kritičnem območju, $H_0$ zavrnemo in ne moremo s stopnjo značilnosti $\\alpha$ trditi, da se SLS ne bo uvrstila v parlament."
   ]
  },
  {
   "cell_type": "markdown",
   "metadata": {},
   "source": [
    "## Testiranje razlike deležev\n",
    "\n",
    "Testna statistika je\n",
    "\n",
    "$$ TS= \\frac{p_1 - p_2 - p_0}{\\sqrt{p_1(1-p_1)/m + p_2(1-p_2)/n}} \\sim N(0,1)$$"
   ]
  },
  {
   "cell_type": "code",
   "execution_count": 3,
   "metadata": {},
   "outputs": [
    {
     "name": "stdout",
     "output_type": "stream",
     "text": [
      "Testna statistika: 0.6248609698956132\n"
     ]
    }
   ],
   "source": [
    "p_1 = 47/125\n",
    "p_2 = 52/153\n",
    "m = 125\n",
    "n = 153\n",
    "p_0 = 0\n",
    "TS = (p_1 - p_2 - p_0)/(p_1*(1 - p_1)/m + p_2*(1 - p_2)/n)**0.5\n",
    "print(\"Testna statistika: {}\".format(TS))"
   ]
  },
  {
   "cell_type": "markdown",
   "metadata": {},
   "source": [
    "### Kritično območje\n",
    "$w_k=z_{1-\\alpha/2}$"
   ]
  },
  {
   "cell_type": "code",
   "execution_count": 7,
   "metadata": {},
   "outputs": [
    {
     "name": "stdout",
     "output_type": "stream",
     "text": [
      "Kritično območje je (-oo, -1.959963984540054] unija [1.959963984540054,oo)\n"
     ]
    }
   ],
   "source": [
    "alfa = 0.05\n",
    "w_k = norm.ppf(1-alfa/2)\n",
    "print(\"Kritično območje je (-oo, -{0}] unija [{0},oo)\".format(w_k))"
   ]
  },
  {
   "cell_type": "markdown",
   "metadata": {},
   "source": [
    "#### Sklep\n",
    "$H_0$ ne moremo zavrniti"
   ]
  },
  {
   "cell_type": "markdown",
   "metadata": {},
   "source": [
    "# Testiranje porazdelitve\n",
    "\n",
    "Testna statiskika za testiranje porazdelitve\n",
    " $$TS = \\sum_{i=1}^r \\frac{(N_i - \\hat{N_i})^2}{\\hat{N_i}}\\sim\\chi^2(r-1),$$\n",
    " \n",
    "kjer so \n",
    " * $N_i$ izmerjene frekvence, \n",
    " * $\\hat{N_i}$ so pa frekvence, kot jih predvideva porazdelitev (teoretične frekvence)."
   ]
  },
  {
   "cell_type": "markdown",
   "metadata": {},
   "source": [
    "### Naloga\n",
    "Dvestokrat vržemo kocko in dobimo frekvence izidov kot so v tabeli. Ali lahko z $\\alpha=0.05$ trdimo, da kocka ni poštena."
   ]
  },
  {
   "cell_type": "code",
   "execution_count": 9,
   "metadata": {},
   "outputs": [],
   "source": [
    "x = [1, 2, 3, 4, 5, 6]\n",
    "f = [35, 23, 33, 50, 27, 32]"
   ]
  },
  {
   "cell_type": "code",
   "execution_count": 14,
   "metadata": {},
   "outputs": [
    {
     "data": {
      "text/plain": [
       "<Container object of 6 artists>"
      ]
     },
     "execution_count": 14,
     "metadata": {},
     "output_type": "execute_result"
    },
    {
     "data": {
      "image/png": "[encoded data removed]",
      "text/plain": [
       "<matplotlib.figure.Figure at 0x7fbfa1fb9d68>"
      ]
     },
     "metadata": {},
     "output_type": "display_data"
    }
   ],
   "source": [
    "%matplotlib inline\n",
    "import matplotlib.pyplot as plt\n",
    "plt.bar(x,f)"
   ]
  },
  {
   "cell_type": "markdown",
   "metadata": {},
   "source": [
    "#### Histogrami vzorcev za enakomerno porazdelitev"
   ]
  },
  {
   "cell_type": "code",
   "execution_count": 15,
   "metadata": {},
   "outputs": [],
   "source": [
    "from random import choice"
   ]
  },
  {
   "cell_type": "code",
   "execution_count": 44,
   "metadata": {
    "collapsed": true
   },
   "outputs": [
    {
     "data": {
      "text/plain": [
       "[5,\n",
       " 3,\n",
       " 2,\n",
       " 1,\n",
       " 1,\n",
       " 5,\n",
       " 5,\n",
       " 3,\n",
       " 4,\n",
       " 1,\n",
       " 6,\n",
       " 4,\n",
       " 6,\n",
       " 5,\n",
       " 5,\n",
       " 1,\n",
       " 2,\n",
       " 1,\n",
       " 6,\n",
       " 1,\n",
       " 6,\n",
       " 3,\n",
       " 4,\n",
       " 5,\n",
       " 3,\n",
       " 4,\n",
       " 4,\n",
       " 2,\n",
       " 4,\n",
       " 4,\n",
       " 2,\n",
       " 1,\n",
       " 6,\n",
       " 1,\n",
       " 3,\n",
       " 3,\n",
       " 1,\n",
       " 2,\n",
       " 1,\n",
       " 3,\n",
       " 2,\n",
       " 6,\n",
       " 3,\n",
       " 1,\n",
       " 3,\n",
       " 2,\n",
       " 4,\n",
       " 3,\n",
       " 5,\n",
       " 2,\n",
       " 6,\n",
       " 3,\n",
       " 2,\n",
       " 3,\n",
       " 2,\n",
       " 6,\n",
       " 5,\n",
       " 4,\n",
       " 5,\n",
       " 3,\n",
       " 3,\n",
       " 1,\n",
       " 5,\n",
       " 6,\n",
       " 4,\n",
       " 6,\n",
       " 2,\n",
       " 1,\n",
       " 1,\n",
       " 4,\n",
       " 2,\n",
       " 2,\n",
       " 2,\n",
       " 6,\n",
       " 1,\n",
       " 2,\n",
       " 4,\n",
       " 3,\n",
       " 4,\n",
       " 5,\n",
       " 2,\n",
       " 5,\n",
       " 1,\n",
       " 4,\n",
       " 6,\n",
       " 4,\n",
       " 1,\n",
       " 4,\n",
       " 1,\n",
       " 4,\n",
       " 5,\n",
       " 2,\n",
       " 1,\n",
       " 4,\n",
       " 5,\n",
       " 6,\n",
       " 4,\n",
       " 1,\n",
       " 5,\n",
       " 1,\n",
       " 4,\n",
       " 6,\n",
       " 4,\n",
       " 5,\n",
       " 1,\n",
       " 5,\n",
       " 1,\n",
       " 3,\n",
       " 3,\n",
       " 3,\n",
       " 1,\n",
       " 5,\n",
       " 5,\n",
       " 4,\n",
       " 4,\n",
       " 2,\n",
       " 2,\n",
       " 2,\n",
       " 4,\n",
       " 2,\n",
       " 1,\n",
       " 6,\n",
       " 1,\n",
       " 4,\n",
       " 5,\n",
       " 4,\n",
       " 2,\n",
       " 6,\n",
       " 3,\n",
       " 1,\n",
       " 4,\n",
       " 5,\n",
       " 2,\n",
       " 3,\n",
       " 1,\n",
       " 6,\n",
       " 4,\n",
       " 5,\n",
       " 4,\n",
       " 5,\n",
       " 1,\n",
       " 3,\n",
       " 2,\n",
       " 3,\n",
       " 4,\n",
       " 6,\n",
       " 6,\n",
       " 2,\n",
       " 1,\n",
       " 4,\n",
       " 1,\n",
       " 3,\n",
       " 6,\n",
       " 4,\n",
       " 2,\n",
       " 5,\n",
       " 3,\n",
       " 3,\n",
       " 5,\n",
       " 1,\n",
       " 4,\n",
       " 2,\n",
       " 6,\n",
       " 4,\n",
       " 2,\n",
       " 5,\n",
       " 5,\n",
       " 4,\n",
       " 6,\n",
       " 6,\n",
       " 5,\n",
       " 6,\n",
       " 3,\n",
       " 4,\n",
       " 6,\n",
       " 4,\n",
       " 2,\n",
       " 5,\n",
       " 5,\n",
       " 4,\n",
       " 1,\n",
       " 6,\n",
       " 4,\n",
       " 4,\n",
       " 1,\n",
       " 5,\n",
       " 1,\n",
       " 3,\n",
       " 1,\n",
       " 6,\n",
       " 5,\n",
       " 2,\n",
       " 3,\n",
       " 1,\n",
       " 4,\n",
       " 1,\n",
       " 5,\n",
       " 2,\n",
       " 4,\n",
       " 4]"
      ]
     },
     "execution_count": 44,
     "metadata": {},
     "output_type": "execute_result"
    }
   ],
   "source": [
    "n = sum(f)\n",
    "vzorec = [choice(x) for i in range(n)]\n",
    "vzorec"
   ]
  },
  {
   "cell_type": "code",
   "execution_count": 45,
   "metadata": {},
   "outputs": [
    {
     "data": {
      "text/plain": [
       "<Container object of 6 artists>"
      ]
     },
     "execution_count": 45,
     "metadata": {},
     "output_type": "execute_result"
    },
    {
     "data": {
      "image/png": "[encoded data removed]",
      "text/plain": [
       "<matplotlib.figure.Figure at 0x7fbfa1b23ba8>"
      ]
     },
     "metadata": {},
     "output_type": "display_data"
    }
   ],
   "source": [
    "# frekvence\n",
    "f_v = [vzorec.count(i) for i in x]\n",
    "plt.bar(x,f_v)"
   ]
  },
  {
   "cell_type": "markdown",
   "metadata": {},
   "source": [
    "### Domneve\n",
    "\n",
    " * $H_0$: X porazdeljen enakomerno $X\\sim\\begin{pmatrix}1 & 2 & 3& 4& 5&6\\\\ 1/6 &1/6 &1/6 &1/6 &1/6 &1/6 \\end{pmatrix}$\n",
    " * $H_a$: X ni porazdeljen enakomerno."
   ]
  },
  {
   "cell_type": "markdown",
   "metadata": {},
   "source": [
    "### Teoretične frekvence"
   ]
  },
  {
   "cell_type": "code",
   "execution_count": 46,
   "metadata": {},
   "outputs": [
    {
     "data": {
      "text/plain": [
       "[33.33333333333333,\n",
       " 33.33333333333333,\n",
       " 33.33333333333333,\n",
       " 33.33333333333333,\n",
       " 33.33333333333333,\n",
       " 33.33333333333333]"
      ]
     },
     "execution_count": 46,
     "metadata": {},
     "output_type": "execute_result"
    }
   ],
   "source": [
    "f_0 = [1/6*n for i in x]\n",
    "f_0"
   ]
  },
  {
   "cell_type": "markdown",
   "metadata": {},
   "source": [
    "### Testna statistika\n",
    "Testna statiskika za testiranje porazdelitve\n",
    " $$TS = \\sum_{i=1}^r \\frac{(N_i - \\hat{N_i})^2}{\\hat{N_i}}\\sim\\chi^2(r-1),$$\n",
    " "
   ]
  },
  {
   "cell_type": "code",
   "execution_count": 47,
   "metadata": {},
   "outputs": [
    {
     "data": {
      "text/plain": [
       "12.880000000000003"
      ]
     },
     "execution_count": 47,
     "metadata": {},
     "output_type": "execute_result"
    }
   ],
   "source": [
    "TS = sum((f[i] - f_0[i])**2/f_0[i] for i in range(6))\n",
    "TS"
   ]
  },
  {
   "cell_type": "markdown",
   "metadata": {},
   "source": [
    "### Kritično območje\n",
    "Kritično območje je enostransko \n",
    "$$ [\\chi^2_{1-\\alpha}(r-1), \\infty)$$"
   ]
  },
  {
   "cell_type": "code",
   "execution_count": 50,
   "metadata": {},
   "outputs": [
    {
     "name": "stdout",
     "output_type": "stream",
     "text": [
      "kritično območje je [11.070497693516351, oo)\n"
     ]
    }
   ],
   "source": [
    "from scipy.stats import chi2\n",
    "r = len(x)\n",
    "w_k = chi2.ppf(1 - alfa, r-1)\n",
    "print(\"kritično območje je [{}, oo)\".format(w_k))"
   ]
  },
  {
   "cell_type": "markdown",
   "metadata": {},
   "source": [
    "### Sklep\n",
    "Testna statistika je v kritičnem območju, zato $H_0$ zavrnemo. Kocka ni poštena."
   ]
  },
  {
   "cell_type": "markdown",
   "metadata": {},
   "source": [
    "## Testiranje zvezne porazdelitve\n",
    "Za 100 meritev slučajne spremenljivke X dobimo vrednosti zbrane v tabeli"
   ]
  },
  {
   "cell_type": "code",
   "execution_count": 52,
   "metadata": {},
   "outputs": [],
   "source": [
    "x = [10, 14, 18, 22, 26, 30]\n",
    "f = [2, 3, 26, 30, 27, 8, 4]"
   ]
  },
  {
   "cell_type": "code",
   "execution_count": 57,
   "metadata": {},
   "outputs": [
    {
     "data": {
      "text/plain": [
       "<Container object of 7 artists>"
      ]
     },
     "execution_count": 57,
     "metadata": {},
     "output_type": "execute_result"
    },
    {
     "data": {
      "image/png": "[encoded data removed]",
      "text/plain": [
       "<matplotlib.figure.Figure at 0x7fbfa15657f0>"
      ]
     },
     "metadata": {},
     "output_type": "display_data"
    }
   ],
   "source": [
    "# histogram\n",
    "plt.bar([8]+[y+2 for y in x], f, width=3.8)"
   ]
  },
  {
   "cell_type": "markdown",
   "metadata": {},
   "source": [
    "### Teoretične frekvence\n",
    "$H_0: X\\sim N(20,5)$"
   ]
  },
  {
   "cell_type": "code",
   "execution_count": 61,
   "metadata": {},
   "outputs": [],
   "source": [
    "from numpy import Inf"
   ]
  },
  {
   "cell_type": "code",
   "execution_count": 63,
   "metadata": {},
   "outputs": [],
   "source": [
    "meje = [-Inf] + x + [Inf]"
   ]
  },
  {
   "cell_type": "code",
   "execution_count": 71,
   "metadata": {},
   "outputs": [
    {
     "data": {
      "text/plain": [
       "[0.022750131948179195,\n",
       " 0.092319538273529025,\n",
       " 0.2295085881679676,\n",
       " 0.31084348322064836,\n",
       " 0.2295085881679676,\n",
       " 0.092319538273529012,\n",
       " 0.022750131948179209]"
      ]
     },
     "execution_count": 71,
     "metadata": {},
     "output_type": "execute_result"
    }
   ],
   "source": [
    "# verjetnost na 1. intervalu\n",
    "p = [ norm.cdf(meje[i + 1], 20, 5) - norm.cdf(meje[i], 20, 5) for i in range(len(meje)-1)]\n",
    "p"
   ]
  },
  {
   "cell_type": "code",
   "execution_count": 72,
   "metadata": {},
   "outputs": [
    {
     "data": {
      "text/plain": [
       "1.0"
      ]
     },
     "execution_count": 72,
     "metadata": {},
     "output_type": "execute_result"
    }
   ],
   "source": [
    "sum(p)"
   ]
  },
  {
   "cell_type": "code",
   "execution_count": 82,
   "metadata": {},
   "outputs": [
    {
     "data": {
      "text/plain": [
       "[2.2750131948179195,\n",
       " 9.2319538273529034,\n",
       " 22.95085881679676,\n",
       " 31.084348322064837,\n",
       " 22.95085881679676,\n",
       " 9.2319538273529016,\n",
       " 2.2750131948179209]"
      ]
     },
     "execution_count": 82,
     "metadata": {},
     "output_type": "execute_result"
    }
   ],
   "source": [
    "n = sum(f)\n",
    "f_0 = [n*pp for pp in p]\n",
    "f_0"
   ]
  },
  {
   "cell_type": "code",
   "execution_count": 83,
   "metadata": {},
   "outputs": [
    {
     "data": {
      "text/plain": [
       "<Container object of 7 artists>"
      ]
     },
     "execution_count": 83,
     "metadata": {},
     "output_type": "execute_result"
    },
    {
     "data": {
      "image/png": "[encoded data removed]",
      "text/plain": [
       "<matplotlib.figure.Figure at 0x7fbf99bc6f98>"
      ]
     },
     "metadata": {},
     "output_type": "display_data"
    }
   ],
   "source": [
    "plt.bar([8]+[y+2 for y in x], f_0, width=3.8)"
   ]
  },
  {
   "cell_type": "markdown",
   "metadata": {},
   "source": [
    "#### Testna statistika"
   ]
  },
  {
   "cell_type": "code",
   "execution_count": 84,
   "metadata": {},
   "outputs": [
    {
     "data": {
      "text/plain": [
       "6.8697072622284816"
      ]
     },
     "execution_count": 84,
     "metadata": {},
     "output_type": "execute_result"
    }
   ],
   "source": [
    "TS = sum((f[i] - f_0[i])**2/f_0[i] for i in range(len(f)))\n",
    "TS"
   ]
  },
  {
   "cell_type": "code",
   "execution_count": 76,
   "metadata": {},
   "outputs": [
    {
     "data": {
      "text/plain": [
       "[2, 3, 26, 30, 27, 8, 4]"
      ]
     },
     "execution_count": 76,
     "metadata": {},
     "output_type": "execute_result"
    }
   ],
   "source": [
    "f"
   ]
  },
  {
   "cell_type": "code",
   "execution_count": 78,
   "metadata": {},
   "outputs": [
    {
     "data": {
      "text/plain": [
       "[4.5500263896358391,\n",
       " 18.463907654705807,\n",
       " 45.90171763359352,\n",
       " 62.168696644129675,\n",
       " 45.90171763359352,\n",
       " 18.463907654705803,\n",
       " 4.5500263896358417]"
      ]
     },
     "execution_count": 78,
     "metadata": {},
     "output_type": "execute_result"
    }
   ],
   "source": [
    "f_0"
   ]
  },
  {
   "cell_type": "code",
   "execution_count": 81,
   "metadata": {},
   "outputs": [
    {
     "data": {
      "text/plain": [
       "100"
      ]
     },
     "execution_count": 81,
     "metadata": {},
     "output_type": "execute_result"
    }
   ],
   "source": [
    "sum(f)"
   ]
  },
  {
   "cell_type": "code",
   "execution_count": 87,
   "metadata": {},
   "outputs": [
    {
     "data": {
      "text/plain": [
       "[5, 26, 30, 27, 12]"
      ]
     },
     "execution_count": 87,
     "metadata": {},
     "output_type": "execute_result"
    }
   ],
   "source": [
    "f_1 = [sum(f[:2])] + f[2:-2] + [sum(f[-2:])]\n",
    "f_1"
   ]
  },
  {
   "cell_type": "code",
   "execution_count": 88,
   "metadata": {},
   "outputs": [
    {
     "data": {
      "text/plain": [
       "[11.506967022170823,\n",
       " 22.95085881679676,\n",
       " 31.084348322064837,\n",
       " 22.95085881679676,\n",
       " 11.506967022170823]"
      ]
     },
     "execution_count": 88,
     "metadata": {},
     "output_type": "execute_result"
    }
   ],
   "source": [
    "f_01 = [sum(f_0[:2])] + f_0[2:-2] + [sum(f_0[-2:])]\n",
    "f_01"
   ]
  },
  {
   "cell_type": "code",
   "execution_count": 91,
   "metadata": {},
   "outputs": [
    {
     "data": {
      "text/plain": [
       "4.8579854087168934"
      ]
     },
     "execution_count": 91,
     "metadata": {},
     "output_type": "execute_result"
    }
   ],
   "source": [
    "TS = sum((f_1[i] - f_01[i])**2/f_01[i] for i in range(len(f_1)))\n",
    "TS"
   ]
  },
  {
   "cell_type": "markdown",
   "metadata": {},
   "source": [
    "### Kritično območje"
   ]
  },
  {
   "cell_type": "code",
   "execution_count": 93,
   "metadata": {},
   "outputs": [
    {
     "data": {
      "text/plain": [
       "9.487729036781154"
      ]
     },
     "execution_count": 93,
     "metadata": {},
     "output_type": "execute_result"
    }
   ],
   "source": [
    "wk = chi2.ppf(1 - alfa, len(f_1)-1)\n",
    "wk"
   ]
  },
  {
   "cell_type": "code",
   "execution_count": 105,
   "metadata": {},
   "outputs": [
    {
     "data": {
      "text/plain": [
       "<matplotlib.text.Text at 0x7fbf9949ffd0>"
      ]
     },
     "execution_count": 105,
     "metadata": {},
     "output_type": "execute_result"
    },
    {
     "data": {
      "image/png": "[encoded data removed]",
      "text/plain": [
       "<matplotlib.figure.Figure at 0x7fbf99b3ea90>"
      ]
     },
     "metadata": {},
     "output_type": "display_data"
    }
   ],
   "source": [
    "import numpy as np\n",
    "t = np.linspace(0,11, 100)\n",
    "plt.plot(t, chi2.pdf(t, 4))\n",
    "plt.axvline(x = wk, color=\"r\")\n",
    "plt.axvline(x = TS, color=\"g\")\n",
    "plt.xticks((TS, wk), (\"TS\", \"wk\"))\n",
    "plt.title(\"Porazdelitev testne statistike\")"
   ]
  },
  {
   "cell_type": "markdown",
   "metadata": {},
   "source": [
    "### Sklep\n",
    "Testna statistika ni v kritičnem območju, $H_0$ ne moremo zavrniti, vzorec je skladen s predpostavko, da je $X\\sim N(20,5)$"
   ]
  },
  {
   "cell_type": "markdown",
   "metadata": {},
   "source": [
    "#### P vrednost\n",
    "p-vrednost je verjetnost, da je testna statistika večja kot dobljena vrednost na danem vzorcu."
   ]
  },
  {
   "cell_type": "code",
   "execution_count": 108,
   "metadata": {},
   "outputs": [
    {
     "name": "stdout",
     "output_type": "stream",
     "text": [
      "P-vrednost testne statistike za dani vzorec je: 0.30218188988828576\n"
     ]
    }
   ],
   "source": [
    "p_val = 1 - chi2.cdf(TS, 4)\n",
    "print(\"P-vrednost testne statistike za dani vzorec je: {}\".format(p_val))"
   ]
  },
  {
   "cell_type": "code",
   "execution_count": null,
   "metadata": {},
   "outputs": [],
   "source": []
  }
 ],
 "metadata": {
  "kernelspec": {
   "display_name": "Python 3",
   "language": "python",
   "name": "python3"
  },
  "language_info": {
   "codemirror_mode": {
    "name": "ipython",
    "version": 3
   },
   "file_extension": ".py",
   "mimetype": "text/x-python",
   "name": "python",
   "nbconvert_exporter": "python",
   "pygments_lexer": "ipython3",
   "version": "3.5.3"
  }
 },
 "nbformat": 4,
 "nbformat_minor": 2
}
