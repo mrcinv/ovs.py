{
 "cells": [
  {
   "cell_type": "markdown",
   "metadata": {},
   "source": [
    "# Testiranje domnev\n",
    "Postopek za testiranje domnev:\n",
    " 1. Postavimo ničelno in alternativno domnevo $H_0$ in $H_a$\n",
    " 2. Zberemo podatke in izračunamo testno statistiko (TS)\n",
    " 3. Določimo kritično območje za testno statistiko\n",
    " 4. Sklepamo\n",
    "Vsak od teh korakov je opisan podrobneje v nadaljevanju."
   ]
  },
  {
   "cell_type": "markdown",
   "metadata": {},
   "source": [
    "## Naloga: povprečna višina\n",
    "Preveriti želimo, ali je povprečna telesna višina moškega študenta enaka $180$cm. Postavimo dve domnevi\n",
    " * ničelno domnevo: $H_0: \\mu=180$cm\n",
    " * alternativno domnevo: $H_a: \\mu \\not=180$cm\n",
    " \n",
    "s testom bomo preverili, kako se ničelna domneva ujema z zbranimi podatki."
   ]
  },
  {
   "cell_type": "code",
   "execution_count": 1,
   "metadata": {},
   "outputs": [],
   "source": [
    "x = [180, 183, 173, 171, 180, 183, 172, 178, 188, 175]"
   ]
  },
  {
   "cell_type": "code",
   "execution_count": 2,
   "metadata": {},
   "outputs": [],
   "source": [
    "from statistics import mean, stdev"
   ]
  },
  {
   "cell_type": "code",
   "execution_count": 3,
   "metadata": {},
   "outputs": [
    {
     "data": {
      "text/plain": [
       "178.3"
      ]
     },
     "execution_count": 3,
     "metadata": {},
     "output_type": "execute_result"
    }
   ],
   "source": [
    "xp = mean(x)\n",
    "xp"
   ]
  },
  {
   "cell_type": "code",
   "execution_count": 4,
   "metadata": {},
   "outputs": [
    {
     "data": {
      "text/plain": [
       "5.538752366533259"
      ]
     },
     "execution_count": 4,
     "metadata": {},
     "output_type": "execute_result"
    }
   ],
   "source": [
    "s = stdev(x)\n",
    "s"
   ]
  },
  {
   "cell_type": "markdown",
   "metadata": {},
   "source": [
    "### Testna statistika\n",
    "$$TS = \\frac{\\bar{x}-\\mu}{s}\\sqrt{n}\\sim Student(n-1)$$"
   ]
  },
  {
   "cell_type": "code",
   "execution_count": 9,
   "metadata": {},
   "outputs": [
    {
     "data": {
      "text/plain": [
       "-0.9705925931566791"
      ]
     },
     "execution_count": 9,
     "metadata": {},
     "output_type": "execute_result"
    }
   ],
   "source": [
    "from math import sqrt\n",
    "mu0 = 180\n",
    "n = 10\n",
    "TS = (xp -mu0)/s*sqrt(n)\n",
    "TS"
   ]
  },
  {
   "cell_type": "markdown",
   "metadata": {},
   "source": [
    "#### Kritično območje\n",
    "Kritično območje je interval „nenavadnih vrednosti“ za dano porazdelitev. Kritično območje je odvisno od stopnje značilnosti $\\alpha$.\n",
    " * dvostranski test $H_a: \\mu\\not=\\mu_0$ je kritično območje $(-\\infty, -w_k] \\cup [w_k, \\infty)$\n",
    " * za enostranski test $Ha: \\mu>\\mu_0$ je kritično območje $[w_k, \\infty)$\n",
    " \n",
    "Rob kritičnega območja $w_k$ določimo kot kvantil za\n",
    " * dvostranski test: kvatnil za $1-\\frac{\\alpha}{2}$ se pravi $w_k = t_{1-\\frac{\\alpha}{2}}(n-1)$\n",
    " * enostranski test: kvantil za $1-\\alpha$ se pravi $w_k = t_{1-\\alpha}(n-1)$"
   ]
  },
  {
   "cell_type": "code",
   "execution_count": 10,
   "metadata": {},
   "outputs": [],
   "source": [
    "# Studentova porazdelitev\n",
    "from scipy.stats import t"
   ]
  },
  {
   "cell_type": "code",
   "execution_count": 13,
   "metadata": {},
   "outputs": [
    {
     "data": {
      "text/plain": [
       "3.2498355440153697"
      ]
     },
     "execution_count": 13,
     "metadata": {},
     "output_type": "execute_result"
    }
   ],
   "source": [
    "alfa = 0.01 # 1 procent\n",
    "wk = t.ppf(1-alfa/2, n-1)\n",
    "wk"
   ]
  },
  {
   "cell_type": "markdown",
   "metadata": {},
   "source": [
    "### Sklep\n",
    "\n",
    " * Če je testna statistika v kritičnem območju $TS\\in W_k$, potem $H_0$ zavrnemo v prid $H_a$\n",
    " * Če testna statistika ni v kritičnem območju, potem $H_0$ ne moremo zavrniti (podatki so skladni s $H_0$)"
   ]
  },
  {
   "cell_type": "markdown",
   "metadata": {},
   "source": [
    "## Testiranje $\\sigma$"
   ]
  },
  {
   "cell_type": "code",
   "execution_count": 17,
   "metadata": {},
   "outputs": [],
   "source": [
    "sigma0 = 1.2\n",
    "s = 1.5\n",
    "n = 25\n",
    "alfa = 0.05"
   ]
  },
  {
   "cell_type": "markdown",
   "metadata": {},
   "source": [
    "$TS = (n-1)\\frac{s^2}{\\sigma_0^2}$ "
   ]
  },
  {
   "cell_type": "code",
   "execution_count": 15,
   "metadata": {},
   "outputs": [
    {
     "data": {
      "text/plain": [
       "37.5"
      ]
     },
     "execution_count": 15,
     "metadata": {},
     "output_type": "execute_result"
    }
   ],
   "source": [
    "TS = s**2/sigma0**2*(n-1)\n",
    "TS"
   ]
  },
  {
   "cell_type": "markdown",
   "metadata": {},
   "source": [
    "Ali je $TS$ normalna? Primerjamo jo s kvantili za $\\chi^2(n-1)$"
   ]
  },
  {
   "cell_type": "code",
   "execution_count": 16,
   "metadata": {},
   "outputs": [],
   "source": [
    "from scipy.stats import chi2"
   ]
  },
  {
   "cell_type": "code",
   "execution_count": 19,
   "metadata": {},
   "outputs": [],
   "source": [
    "wk1 = chi2.ppf(alfa/2, n-1)"
   ]
  },
  {
   "cell_type": "code",
   "execution_count": 20,
   "metadata": {},
   "outputs": [],
   "source": [
    "wk2 = chi2.ppf(1-alfa/2, n-1)"
   ]
  },
  {
   "cell_type": "code",
   "execution_count": 23,
   "metadata": {},
   "outputs": [
    {
     "name": "stdout",
     "output_type": "stream",
     "text": [
      "Normalne (ne kritične)  vrednosti ležijo med 12.401150217444437 in 39.364077026603894\n",
      "Kritično območje je unija [0, 12.401150217444437] in [39.364077026603894, neskončno)\n"
     ]
    }
   ],
   "source": [
    "print(\"Normalne (ne kritične)  vrednosti ležijo med {} in {}\".format(wk1, wk2))\n",
    "print(\"Kritično območje je unija [0, {}] in [{}, neskončno)\".format(wk1, wk2))"
   ]
  },
  {
   "cell_type": "markdown",
   "metadata": {},
   "source": [
    "### Sklep\n",
    "Testna statistika **ne** leži v kritičnem območju, to pomeni, da $H_0$ ne moremo zavrniti."
   ]
  },
  {
   "cell_type": "code",
   "execution_count": null,
   "metadata": {},
   "outputs": [],
   "source": []
  }
 ],
 "metadata": {
  "kernelspec": {
   "display_name": "Python 3",
   "language": "python",
   "name": "python3"
  },
  "language_info": {
   "codemirror_mode": {
    "name": "ipython",
    "version": 3
   },
   "file_extension": ".py",
   "mimetype": "text/x-python",
   "name": "python",
   "nbconvert_exporter": "python",
   "pygments_lexer": "ipython3",
   "version": "3.5.3"
  }
 },
 "nbformat": 4,
 "nbformat_minor": 2
}
