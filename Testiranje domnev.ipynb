{
 "cells": [
  {
   "cell_type": "markdown",
   "metadata": {},
   "source": [
    "# Testiranje domnev\n",
    "Postopek za testiranje domnev:\n",
    " 1. Postavimo ničelno in alternativno domnevo $H_0$ in $H_a$\n",
    " 2. Zberemo podatke in izračunamo testno statistiko (TS)\n",
    " 3. Določimo kritično območje za testno statistiko\n",
    " 4. Sklepamo\n",
    "Vsak od teh korakov je opisan podrobneje v nadaljevanju."
   ]
  },
  {
   "cell_type": "markdown",
   "metadata": {},
   "source": [
    "## Naloga: povprečna višina\n",
    "Preveriti želimo, ali je povprečna telesna višina moškega študenta enaka $180$cm. Postavimo dve domnevi\n",
    " * ničelno domnevo: $H_0: \\mu=180$cm\n",
    " * alternativno domnevo: $H_a: \\mu \\not=180$cm\n",
    " \n",
    "s testom bomo preverili, kako se ničelna domneva ujema z zbranimi podatki."
   ]
  },
  {
   "cell_type": "code",
   "execution_count": 1,
   "metadata": {},
   "outputs": [],
   "source": [
    "x = [180, 183, 173, 171, 180, 183, 172, 178, 188, 175, 183, 179, 185, 195, 169]"
   ]
  },
  {
   "cell_type": "code",
   "execution_count": 2,
   "metadata": {},
   "outputs": [],
   "source": [
    "from statistics import mean, stdev"
   ]
  },
  {
   "cell_type": "code",
   "execution_count": 3,
   "metadata": {},
   "outputs": [
    {
     "data": {
      "text/plain": [
       "179.6"
      ]
     },
     "execution_count": 3,
     "metadata": {},
     "output_type": "execute_result"
    }
   ],
   "source": [
    "xp = mean(x)\n",
    "xp"
   ]
  },
  {
   "cell_type": "code",
   "execution_count": 4,
   "metadata": {},
   "outputs": [
    {
     "data": {
      "text/plain": [
       "6.987744373442078"
      ]
     },
     "execution_count": 4,
     "metadata": {},
     "output_type": "execute_result"
    }
   ],
   "source": [
    "s = stdev(x)\n",
    "s"
   ]
  },
  {
   "cell_type": "markdown",
   "metadata": {},
   "source": [
    "### Testna statistika\n",
    "Če testiramo $H_0: \\mu = \\mu_0$, potem je testna statistika ena od naslednjih možnosti:\n",
    " * če $\\sigma$ ne poznamo $$TS = \\frac{\\bar{x}-\\mu_0}{s}\\sqrt{n}\\sim Student(n-1)$$\n",
    " * če $\\sigma$ poznamo $$TS = \\frac{\\bar{x}-\\mu_0}{\\sigma}\\sqrt{n}\\sim N(0,1)$$"
   ]
  },
  {
   "cell_type": "code",
   "execution_count": 6,
   "metadata": {},
   "outputs": [
    {
     "data": {
      "text/plain": [
       "-0.22170148987861085"
      ]
     },
     "execution_count": 6,
     "metadata": {},
     "output_type": "execute_result"
    }
   ],
   "source": [
    "from math import sqrt\n",
    "mu_0 = 180\n",
    "n = len(x)\n",
    "TS = (xp - mu_0)/s*sqrt(n)\n",
    "TS"
   ]
  },
  {
   "cell_type": "markdown",
   "metadata": {},
   "source": [
    "#### Kritično območje\n",
    "Kritično območje je interval „nenavadnih vrednosti“ za dano porazdelitev. Kritično območje je odvisno od stopnje značilnosti $\\alpha$.\n",
    " * dvostranski test $H_a: \\mu\\not=\\mu_0$ je kritično območje $(-\\infty, -w_k] \\cup [w_k, \\infty)$\n",
    " * za enostranski test $Ha: \\mu>\\mu_0$ je kritično območje $[w_k, \\infty)$\n",
    " \n",
    "Rob kritičnega območja $w_k$ določimo kot kvantil za\n",
    " * dvostranski test: kvatnil za $1-\\frac{\\alpha}{2}$ se pravi $w_k = t_{1-\\frac{\\alpha}{2}}(n-1)$\n",
    " * enostranski test: kvantil za $1-\\alpha$ se pravi $w_k = t_{1-\\alpha}(n-1)$"
   ]
  },
  {
   "cell_type": "code",
   "execution_count": 7,
   "metadata": {},
   "outputs": [],
   "source": [
    "# Studentova porazdelitev\n",
    "from scipy.stats import t"
   ]
  },
  {
   "cell_type": "code",
   "execution_count": 9,
   "metadata": {},
   "outputs": [
    {
     "name": "stdout",
     "output_type": "stream",
     "text": [
      "Kritično območje: (-neskončno, -1.7613101357748562] U [1.7613101357748562, neskončno)\n"
     ]
    }
   ],
   "source": [
    "alfa = 0.1 # 10 procentov\n",
    "wk = t.ppf(1-alfa/2, n-1)\n",
    "print(\"Kritično območje: (-neskončno, {}] U [{}, neskončno)\".format(-wk,wk))"
   ]
  },
  {
   "cell_type": "markdown",
   "metadata": {},
   "source": [
    "### Sklep\n",
    "\n",
    " * Če je testna statistika v kritičnem območju $TS\\in W_k$, potem $H_0$ zavrnemo v prid $H_a$\n",
    " * Če testna statistika ni v kritičnem območju, potem $H_0$ ne moremo zavrniti (podatki so skladni s $H_0$)\n",
    "\n",
    "Torej: podatki so skladni z domnevo, da je $\\mu=180$cm"
   ]
  },
  {
   "cell_type": "markdown",
   "metadata": {},
   "source": [
    "## Testiranje $\\sigma$"
   ]
  },
  {
   "cell_type": "markdown",
   "metadata": {},
   "source": [
    "V tovarni proizvajajo cevi izbrane dolžine.  Trdijo, da je standardna napaka izdelane\n",
    "cevi  manjša  od  1.2cm.   Na  25  ceveh  dobimo  vzorčni  odklon  1.5cm.   Ali  lahko  na\n",
    "podlagi vzorca pri \n",
    "\n",
    "α = 0.05 \n",
    "\n",
    "zavrnemo trditev tovarne?  Kaj pa na vzorcu 101 cevi?"
   ]
  },
  {
   "cell_type": "code",
   "execution_count": 10,
   "metadata": {},
   "outputs": [],
   "source": [
    "sigma_0 = 1.2\n",
    "s = 1.5\n",
    "n = 25\n",
    "alfa = 0.05"
   ]
  },
  {
   "cell_type": "markdown",
   "metadata": {},
   "source": [
    "### 1. Postavimo domneve\n",
    "\n",
    " * ničelna domneva: $H_0: \\sigma=1.2$\n",
    " * alternativna domneva $H_a: \\sigma > 1.2$"
   ]
  },
  {
   "cell_type": "markdown",
   "metadata": {},
   "source": [
    "### 2. Vzorčenje in testna statistika TS\n",
    "$TS = (n-1)\\frac{s^2}{\\sigma_0^2}\\sim \\chi^2(n-1)$ "
   ]
  },
  {
   "cell_type": "code",
   "execution_count": 11,
   "metadata": {},
   "outputs": [
    {
     "name": "stdout",
     "output_type": "stream",
     "text": [
      "Vrednost testne statistike je 37.5\n"
     ]
    }
   ],
   "source": [
    "TS = s**2/sigma_0**2*(n-1)\n",
    "print(\"Vrednost testne statistike je {}\".format(TS))"
   ]
  },
  {
   "cell_type": "markdown",
   "metadata": {},
   "source": [
    "### 3. Kritično območje\n",
    "Ali je $TS$ normalna? Primerjamo jo s kvantili za $\\chi^2(n-1)$\n",
    "\n",
    "Kritično območje je interval $[\\chi^2_{1-\\alpha}(n-1), \\infty)$"
   ]
  },
  {
   "cell_type": "code",
   "execution_count": 12,
   "metadata": {},
   "outputs": [],
   "source": [
    "from scipy.stats import chi2"
   ]
  },
  {
   "cell_type": "code",
   "execution_count": 13,
   "metadata": {},
   "outputs": [],
   "source": [
    "wk = chi2.ppf(1-alfa, n-1)"
   ]
  },
  {
   "cell_type": "code",
   "execution_count": 14,
   "metadata": {},
   "outputs": [
    {
     "name": "stdout",
     "output_type": "stream",
     "text": [
      "Kritično območje je [36.4150285018073, neskončno)\n"
     ]
    }
   ],
   "source": [
    "print(\"Kritično območje je [{}, neskončno)\".format(wk))"
   ]
  },
  {
   "cell_type": "markdown",
   "metadata": {},
   "source": [
    "### 4. Sklep\n",
    "Testna statistika **leži** v kritičnem območju, to pomeni, da $H_0$ zavrnemo v prid $H_a$."
   ]
  },
  {
   "cell_type": "markdown",
   "metadata": {},
   "source": [
    "### Volitve 2018\n",
    "Ali lahko na podlagi [ankete](http://www.delo.si/assets/media/other/20180311//politbarometer_marec2018copy.pdf) sklepamo, da se bo Desus prebil v parlament."
   ]
  },
  {
   "cell_type": "code",
   "execution_count": 21,
   "metadata": {},
   "outputs": [],
   "source": [
    "p_desus = 0.032\n",
    "p_levica = 0.049\n",
    "p_sls = 0.025\n",
    "n = 1010\n",
    "p_neodloceni = 0.25"
   ]
  },
  {
   "cell_type": "code",
   "execution_count": 18,
   "metadata": {},
   "outputs": [
    {
     "data": {
      "text/plain": [
       "0.03"
      ]
     },
     "execution_count": 18,
     "metadata": {},
     "output_type": "execute_result"
    }
   ],
   "source": [
    "p0 = 0.04*0.75/1\n",
    "p0"
   ]
  },
  {
   "cell_type": "markdown",
   "metadata": {},
   "source": [
    "### 1. postavimo domneve\n",
    " * $H_0: p_{sls} = 0.03$\n",
    " * $H_a: p_{sls} < 0.03$"
   ]
  },
  {
   "cell_type": "markdown",
   "metadata": {},
   "source": [
    "### 2. Testna statistika\n",
    "Za delež je TS\n",
    "\n",
    "$$TS = (p-p_0)\\sqrt{\\frac{n}{p_0(1-p_0)}}\\sim N(0,1)$$"
   ]
  },
  {
   "cell_type": "code",
   "execution_count": 27,
   "metadata": {},
   "outputs": [
    {
     "name": "stdout",
     "output_type": "stream",
     "text": [
      "SLS: -0.9315028687565687, Desus: 0.372601147502628, Levica: 3.5397109012749635\n"
     ]
    }
   ],
   "source": [
    "TS_sls = (p_sls - p0)*sqrt(n/(p0*(1 - p0)))\n",
    "TS_sls\n",
    "TS_levica = (p_levica - p0)*sqrt(n/(p0*(1 - p0)))\n",
    "TS_levica\n",
    "TS_desus = (p_desus - p0)*sqrt(n/(p0*(1 - p0)))\n",
    "print(\"SLS: {}, Desus: {}, Levica: {}\".format(TS_sls, TS_desus, TS_levica))"
   ]
  },
  {
   "cell_type": "markdown",
   "metadata": {},
   "source": [
    "### 3. Kritično območje"
   ]
  },
  {
   "cell_type": "code",
   "execution_count": 28,
   "metadata": {},
   "outputs": [
    {
     "name": "stdout",
     "output_type": "stream",
     "text": [
      "Kritično območje: (-neskončno, -2.3263478740408408)\n"
     ]
    }
   ],
   "source": [
    "alfa = 0.01\n",
    "from scipy.stats import norm\n",
    "wk = norm.ppf(1 - alfa)\n",
    "print(\"Kritično območje: (-neskončno, {})\".format(-wk))"
   ]
  },
  {
   "cell_type": "markdown",
   "metadata": {},
   "source": [
    "### 4. Sklep\n",
    "Testna statistika ni v kritičnem območju, $H_0$ zavrnemo in ne moremo s stopnjo značilnosti $\\alpha$ trditi, da se SLS ne bo uvrstila v parlament."
   ]
  },
  {
   "cell_type": "code",
   "execution_count": null,
   "metadata": {},
   "outputs": [],
   "source": []
  }
 ],
 "metadata": {
  "kernelspec": {
   "display_name": "Python 3",
   "language": "python",
   "name": "python3"
  },
  "language_info": {
   "codemirror_mode": {
    "name": "ipython",
    "version": 3
   },
   "file_extension": ".py",
   "mimetype": "text/x-python",
   "name": "python",
   "nbconvert_exporter": "python",
   "pygments_lexer": "ipython3",
   "version": "3.5.3"
  }
 },
 "nbformat": 4,
 "nbformat_minor": 2
}
