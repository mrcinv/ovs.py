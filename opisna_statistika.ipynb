{
 "cells": [
  {
   "cell_type": "markdown",
   "metadata": {},
   "source": [
    "# Opisna statistika\n",
    "\n",
    "Ta dokument lahko poženete ali pregledate v brskalniku\n",
    "\n",
    "[![Binder](https://mybinder.org/badge.svg)](https://mybinder.org/v2/gh/mrcinv/ovs.py/master) \n",
    "<a href=\"https://nbviewer.jupyter.org/github/mrcinv/ovs.py/blob/master/opisna_statistika.ipynb\">\n",
    "    <img width=\"109\" height=\"20\" src=\"https://raw.githubusercontent.com/jupyter/design/master/logos/Badges/nbviewer_badge.png\"/>\n",
    "</a>\n",
    "\n",
    "Ta dokument si lahko prenesete na svoj računalnik in poženete, tako da v terminalu napišete naslednje\n",
    "\n",
    "    git clone https://github.com/mrcinv/ovs.py.git\n",
    "    cd ovs.py\n",
    "    jupyter-notebook &\n",
    "\n",
    "## Kazalo\n",
    "- [frekvence in relativne frekvence](#Frekvence-in-relativne-frekvence)\n",
    "- [razpon](#Razpon), [modus](#modus), [mediana, kvartili, percentili](#Mediana%2C-kvartili-in-percentili)\n",
    "- povprečje, standardni odklon\n",
    "- histogram\n",
    "- grafični prikazi\n",
    "  * [histogram](#Histogram)\n",
    "  * [razsevni diagram](#Razsevni-diagram)"
   ]
  },
  {
   "cell_type": "markdown",
   "metadata": {},
   "source": [
    "## Frekvence in relativne frekvence\n",
    "\n",
    "Naj bo $X$ slučajna spremenljivka in $x_k$ ena izmed možnih vrednosti. \n",
    "\n",
    " * **Frekvenca** vrednosti $x_k$ je število pojavitev vrednosti $x_k$ v celotni populaciji oziroma vzorcu.\n",
    " * **Relativna frekvenca** vrednosti $x_k$ je razmerje med frekvenco in velikostjo celotne populacije oziroma vzorca.\n",
    " \n",
    "## Modus\n",
    "\n",
    "Naj bo $X$ slučajna spremenljivka. **Modus** je vrednost $m\\in Z_X$ z največjo verjetnostjo, z drugimi besedami **modus** $m$ je vrednost, za katero je $P(X=m)$ največja med vsemi možnimi vrednostmi. Modus določimo tako, da pogledamo, kateri podatek se pojavlja najpogosteje. Če vsak podatek nastopa le po enkrat, rečemo, da modusa ni. V primeru, da se več podatkov pojavlja enakomnogokrat najpogosteje, potem je modusov več."
   ]
  },
  {
   "cell_type": "markdown",
   "metadata": {},
   "source": [
    "### Naloga 1\n",
    "\n",
    "Naloži [podatke](http://www.stat.si/dokument/5424/kohezijske_%20statisticne_obcine.xls) o statističnih pokrajinah in občinah v Sloveniji. Naj bo $P$ spremenljivka, ki za vsako občino pove ime regije. \n",
    "\n",
    "* Določi frekvence in relativne frekvence za posamezne vrednosti $P$. Za vsako pokrajino določi število občin in relativni delež vseh občin.\n",
    "* Katera pokrajina je *modus*? Z drugimi besedami, katera pokrajina ima največ občin?"
   ]
  },
  {
   "cell_type": "code",
   "execution_count": 11,
   "metadata": {},
   "outputs": [],
   "source": []
  },
  {
   "cell_type": "markdown",
   "metadata": {},
   "source": [
    "## Razpon\n",
    "\n",
    "Naj bo $X$ številska slučajna spremenljivka. **Razpon** je najmanjši interval, na katerem ležijo vse možne vrednosti, ki jih lahko spremenljivka zavzame. Če obstajata minimalna $x_m$ in maksimalna vrednost $x_M$ slučajne spremenljivke $X$ je **razpon** interval $[x_m, x_M]$.\n",
    "\n",
    "## Mediana, kvartili in percentili\n",
    "\n",
    "* 100$p$-ti (per)centil za $p\\in [0, 1]$, je najmanjša vrednost $q_p$, za katero je $P(X\\le q_p)\\ge p$. \n",
    "* 50. percentil se imenuje **mediana**.\n",
    "* Centile za $p=\\frac{k}{4}$ imenujemo kvartili. **Prvi kvartil** je enak 25. percentilu, **drugi kvartil** je enak mediani,  **tretji kvartil** pa je enak 75. percentilu."
   ]
  },
  {
   "cell_type": "markdown",
   "metadata": {},
   "source": [
    "## Naloga 2\n",
    "\n",
    "Predpostavimo, da je telesna višina odraslih moških porazdeljena normalno $N(180cm, 7cm)$ in telesna višina odraslih žensk $N(168cm, 5cm)$. Kateri percentil in kateri kvartil je najbližji tvoji telesni višini?"
   ]
  },
  {
   "cell_type": "code",
   "execution_count": null,
   "metadata": {},
   "outputs": [],
   "source": [
    "from scipy.stats import norm\n",
    "?norm"
   ]
  },
  {
   "cell_type": "code",
   "execution_count": null,
   "metadata": {},
   "outputs": [],
   "source": []
  },
  {
   "cell_type": "markdown",
   "metadata": {},
   "source": [
    "## Povprečje, standardni odklon"
   ]
  },
  {
   "cell_type": "markdown",
   "metadata": {},
   "source": [
    "## Grafične predstavitve\n",
    "\n",
    "* Knjižnica [matplotlib](https://matplotlib.org/gallery/index.html) za risanje grafov v Pythonu"
   ]
  },
  {
   "cell_type": "markdown",
   "metadata": {},
   "source": [
    "## Histogram\n",
    "\n",
    "* [O histogramih v Pythonu](https://realpython.com/python-histograms/)"
   ]
  },
  {
   "cell_type": "markdown",
   "metadata": {},
   "source": [
    "### Naloga 3\n",
    "Na spletni strani statističnega urada pridobi podatke o številu prebivalcev po občinah. \n",
    "* Poišči razpon\n",
    "* Razpon razdeli na 10 enakih intervalov/razredov in določi frekvence in relativne frekvence za posamezni razred\n",
    "* Nariši histogram\n",
    "* Katera velikost občine je najbolj pogosta (modus)?\n",
    "* Izberi določeno občino in določi h katerem percentilu in katerem kvartilu spada po številu prebivalcev\n"
   ]
  },
  {
   "cell_type": "code",
   "execution_count": null,
   "metadata": {},
   "outputs": [],
   "source": []
  },
  {
   "cell_type": "markdown",
   "metadata": {},
   "source": [
    "### Naloga 4\n",
    "Na spletni strani [Gapminder](https://www.gapminder.org/tools) prikaži porazdelitev dohodkov po posameznih državah (`#$chart-type=mountain`).\n",
    "* Poišči nekaj držav, ki imajo velik delež ljudi pod mejo ekstremne revščine (2\\$/dan).\n",
    "* Primerjaj število ljudi z različnimi nivoji dohodka(income level 1, 2, 3 in 4) glede na celine.\n",
    "* Približno določi mediano dohodka za nekaj največjih držav na različnih celinah"
   ]
  },
  {
   "cell_type": "markdown",
   "metadata": {},
   "source": [
    "## Naloga 5\n",
    "Na spletni strani [Eurostat](https://ec.europa.eu/eurostat/data/database) poišči podatke o deležu obnovljivih virov energije (Tables by theme -> Environment by energy). Nariši histogram. Katere države imajo velik delež obnovljivih virov?"
   ]
  },
  {
   "cell_type": "code",
   "execution_count": null,
   "metadata": {},
   "outputs": [],
   "source": []
  },
  {
   "cell_type": "markdown",
   "metadata": {},
   "source": [
    "## Krožni diagram\n",
    "\n",
    "Prikaži strukturo prihodkov [slovenskega proračuna za 2019](http://www.mf.gov.si/fileadmin/mf.gov.si/pageuploads/mediji/Infografika_PRORACUN_2019.pdf) s krožnim diagramom (pie chart)."
   ]
  },
  {
   "cell_type": "code",
   "execution_count": 11,
   "metadata": {},
   "outputs": [],
   "source": [
    "postavke = [\"DDV\", \"Trošarine\", \"Dohodnina\", \"EU sredstva\", \"Kapital, premoženje\", \"Pravne osebe\", \"Nedavčni prihodki\"]\n",
    "vrednosti = [3949., 1543., 1409., 1018., 941., 900., 594.]"
   ]
  },
  {
   "cell_type": "markdown",
   "metadata": {},
   "source": [
    "## Razsevni diagram"
   ]
  },
  {
   "cell_type": "markdown",
   "metadata": {},
   "source": [
    "## Naloga 6\n",
    "\n",
    "Na spletni strani [Gapminder](https://www.gapminder.org/tools) prikaži razsevni diagram med **prihodki** in **deležem kmetijskih površin**. \n",
    "* Razvrsti države na različne skupine. Opiši lastnosti posameznih skupin.\n",
    "* Poišči Slovenijo in druge države, ki jih poznaš.\n",
    "\n",
    "Nariši še razsevni diagram med **deležem zaposlenih v kmetijstvu** in **deležem kmetijskih površin**\n",
    "* Poišči državo, ki ima največji delež kmetijskih površin na svetu in v Evropi. Prav tako poišči državo, ki ima največji delež zaposlenih v kmetijstvu.\n",
    "* Poišči države, ki imajo velik delež kmetijskih površin. Katere države imajo kljub temu majhen delež delavcev v kmetijstvu. Razloži, kako je to mogoče.\n",
    "* Poišči Slovenijo. V katero skupino držav spada. Primerjaj jo z Dansko. Poskusi razložiti zakaj takšna razlika!\n"
   ]
  },
  {
   "cell_type": "markdown",
   "metadata": {},
   "source": [
    "## Povezave\n",
    "Nekatere predtstavitve statističnih podatkov\n",
    "* [statistični atlas evrope](http://ec.europa.eu/eurostat/statistical-atlas/gis/viewer)\n",
    "* [gapminder](https://www.gapminder.org/tools/)\n",
    "\n",
    "Viri podatkov za Python\n",
    "* [Seaborn](http://deparkes.co.uk/2015/05/05/seaborn-python-plotting-library/)\n",
    "* [Scikit-learn](http://scikit-learn.org/stable/datasets/)\n",
    "* različni paketi za R-project vsebujejo kar nekaj [podatkovnih nizov](https://vincentarelbundock.github.io/Rdatasets/datasets.html)\n",
    "* https://www.kaggle.com/datasets\n",
    "* https://www.statsmodels.org/dev/datasets/index.html"
   ]
  },
  {
   "cell_type": "code",
   "execution_count": null,
   "metadata": {},
   "outputs": [],
   "source": []
  }
 ],
 "metadata": {
  "kernelspec": {
   "display_name": "Python 3",
   "language": "python",
   "name": "python3"
  },
  "language_info": {
   "codemirror_mode": {
    "name": "ipython",
    "version": 3
   },
   "file_extension": ".py",
   "mimetype": "text/x-python",
   "name": "python",
   "nbconvert_exporter": "python",
   "pygments_lexer": "ipython3",
   "version": "3.6.7"
  }
 },
 "nbformat": 4,
 "nbformat_minor": 2
}
