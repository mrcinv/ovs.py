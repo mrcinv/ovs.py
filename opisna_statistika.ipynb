{
 "cells": [
  {
   "cell_type": "markdown",
   "metadata": {},
   "source": [
    "# Opisna statistika\n",
    "\n",
    "Ta dokument lahko poženete ali pregledate v brskalniku\n",
    "\n",
    "[![Binder](https://mybinder.org/badge.svg)](https://mybinder.org/v2/gh/mrcinv/ovs.py/master) \n",
    "<a href=\"https://nbviewer.jupyter.org/github/mrcinv/ovs.py/blob/master/opisna_statistika.ipynb\">\n",
    "    <img width=\"109\" height=\"20\" src=\"https://raw.githubusercontent.com/jupyter/design/master/logos/Badges/nbviewer_badge.png\"/>\n",
    "</a>\n",
    "\n",
    "Ta dokument si lahko prenesete na svoj računalnik in poženete, tako da v terminalu napišete naslednje\n",
    "\n",
    "    git clone https://github.com/mrcinv/ovs.py.git\n",
    "    cd ovs.py\n",
    "    jupyter-lab &\n",
    "\n",
    "## Kazalo\n",
    "- [frekvence in relativne frekvence](#Frekvence-in-relativne-frekvence)\n",
    "- [razpon](#Razpon), [modus](#modus), [mediana, kvartili, percentili](#Mediana%2C-kvartili-in-percentili)\n",
    "- povprečje, standardni odklon\n",
    "- histogram\n",
    "- grafični prikazi\n",
    "  * [histogram](#Histogram)\n",
    "  * [razsevni diagram](#Razsevni-diagram)"
   ]
  },
  {
   "cell_type": "markdown",
   "metadata": {},
   "source": [
    "## Frekvence in relativne frekvence\n",
    "\n",
    "Naj bo $X$ slučajna spremenljivka in $x_k$ ena izmed možnih vrednosti. \n",
    "\n",
    " * **Frekvenca** vrednosti $x_k$ je število pojavitev vrednosti $x_k$ v celotni populaciji oziroma vzorcu.\n",
    " * **Relativna frekvenca** vrednosti $x_k$ je razmerje med frekvenco in velikostjo celotne populacije oziroma vzorca.\n",
    " \n",
    "## Modus\n",
    "\n",
    "Naj bo $X$ slučajna spremenljivka. **Modus** je vrednost $m\\in Z_X$ z največjo verjetnostjo, z drugimi besedami **modus** $m$ je vrednost, za katero je $P(X=m)$ največja med vsemi možnimi vrednostmi. Modus določimo tako, da pogledamo, kateri podatek se pojavlja najpogosteje. Če vsak podatek nastopa le po enkrat, rečemo, da modusa ni. V primeru, da se več podatkov pojavlja enakomnogokrat najpogosteje, potem je modusov več."
   ]
  },
  {
   "cell_type": "markdown",
   "metadata": {},
   "source": [
    "### Naloga\n",
    "\n",
    "Naloži [podatke](http://www.stat.si/dokument/5424/kohezijske_%20statisticne_obcine.xls) o statističnih pokrajinah in občinah v Sloveniji. Naj bo $P$ spremenljivka, ki za vsako občino pove ime regije. \n",
    "\n",
    "* Določi frekvence in relativne frekvence za posamezne vrednosti $P$. Za vsako pokrajino določi število občin in relativni delež vseh občin.\n",
    "* Katera pokrajina je *modus*? Z drugimi besedami, katera pokrajina ima največ občin?"
   ]
  },
  {
   "cell_type": "code",
   "execution_count": 19,
   "metadata": {},
   "outputs": [],
   "source": [
    "import pandas as pd\n",
    "obcine = pd.read_excel(\"kohezijske_ statisticne_obcine.xls\")"
   ]
  },
  {
   "cell_type": "code",
   "execution_count": 29,
   "metadata": {},
   "outputs": [
    {
     "data": {
      "text/html": [
       "<div>\n",
       "<style scoped>\n",
       "    .dataframe tbody tr th:only-of-type {\n",
       "        vertical-align: middle;\n",
       "    }\n",
       "\n",
       "    .dataframe tbody tr th {\n",
       "        vertical-align: top;\n",
       "    }\n",
       "\n",
       "    .dataframe thead th {\n",
       "        text-align: right;\n",
       "    }\n",
       "</style>\n",
       "<table border=\"1\" class=\"dataframe\">\n",
       "  <thead>\n",
       "    <tr style=\"text-align: right;\">\n",
       "      <th></th>\n",
       "      <th>Kohezijski regiji (2), statistične regije (12) in občine Republike Slovenije (212)</th>\n",
       "      <th>Unnamed: 1</th>\n",
       "      <th>Unnamed: 2</th>\n",
       "      <th>Unnamed: 3</th>\n",
       "      <th>Unnamed: 4</th>\n",
       "      <th>Unnamed: 5</th>\n",
       "      <th>Unnamed: 6</th>\n",
       "      <th>Unnamed: 7</th>\n",
       "    </tr>\n",
       "  </thead>\n",
       "  <tbody>\n",
       "    <tr>\n",
       "      <th>0</th>\n",
       "      <td>NaN</td>\n",
       "      <td>NaN</td>\n",
       "      <td>NaN</td>\n",
       "      <td>NaN</td>\n",
       "      <td>NaN</td>\n",
       "      <td>NaN</td>\n",
       "      <td>NaN</td>\n",
       "      <td>NaN</td>\n",
       "    </tr>\n",
       "    <tr>\n",
       "      <th>1</th>\n",
       "      <td>Šifra kohezijske regije, nacionalna</td>\n",
       "      <td>Šifra kohezijske regije, Eurostat</td>\n",
       "      <td>Ime kohezijske regije</td>\n",
       "      <td>Šifra statistične regije, nacionalna</td>\n",
       "      <td>Šifra statistične regije, Eurostat</td>\n",
       "      <td>Ime statistične regije</td>\n",
       "      <td>Šifra občine</td>\n",
       "      <td>Ime občine</td>\n",
       "    </tr>\n",
       "    <tr>\n",
       "      <th>2</th>\n",
       "      <td>1</td>\n",
       "      <td>SI03</td>\n",
       "      <td>Vzhodna Slovenija</td>\n",
       "      <td>1</td>\n",
       "      <td>SI031</td>\n",
       "      <td>Pomurska</td>\n",
       "      <td>195</td>\n",
       "      <td>Apače</td>\n",
       "    </tr>\n",
       "    <tr>\n",
       "      <th>3</th>\n",
       "      <td>1</td>\n",
       "      <td>SI03</td>\n",
       "      <td>Vzhodna Slovenija</td>\n",
       "      <td>1</td>\n",
       "      <td>SI031</td>\n",
       "      <td>Pomurska</td>\n",
       "      <td>2</td>\n",
       "      <td>Beltinci</td>\n",
       "    </tr>\n",
       "    <tr>\n",
       "      <th>4</th>\n",
       "      <td>1</td>\n",
       "      <td>SI03</td>\n",
       "      <td>Vzhodna Slovenija</td>\n",
       "      <td>1</td>\n",
       "      <td>SI031</td>\n",
       "      <td>Pomurska</td>\n",
       "      <td>152</td>\n",
       "      <td>Cankova</td>\n",
       "    </tr>\n",
       "  </tbody>\n",
       "</table>\n",
       "</div>"
      ],
      "text/plain": [
       "  Kohezijski regiji (2), statistične regije (12) in občine Republike Slovenije (212)  \\\n",
       "0                                                NaN                                   \n",
       "1                Šifra kohezijske regije, nacionalna                                   \n",
       "2                                                  1                                   \n",
       "3                                                  1                                   \n",
       "4                                                  1                                   \n",
       "\n",
       "                          Unnamed: 1             Unnamed: 2  \\\n",
       "0                                NaN                    NaN   \n",
       "1  Šifra kohezijske regije, Eurostat  Ime kohezijske regije   \n",
       "2                               SI03      Vzhodna Slovenija   \n",
       "3                               SI03      Vzhodna Slovenija   \n",
       "4                               SI03      Vzhodna Slovenija   \n",
       "\n",
       "                             Unnamed: 3                          Unnamed: 4  \\\n",
       "0                                   NaN                                 NaN   \n",
       "1  Šifra statistične regije, nacionalna  Šifra statistične regije, Eurostat   \n",
       "2                                     1                               SI031   \n",
       "3                                     1                               SI031   \n",
       "4                                     1                               SI031   \n",
       "\n",
       "               Unnamed: 5    Unnamed: 6  Unnamed: 7  \n",
       "0                     NaN           NaN         NaN  \n",
       "1  Ime statistične regije  Šifra občine  Ime občine  \n",
       "2                Pomurska           195       Apače  \n",
       "3                Pomurska             2    Beltinci  \n",
       "4                Pomurska           152     Cankova  "
      ]
     },
     "execution_count": 29,
     "metadata": {},
     "output_type": "execute_result"
    }
   ],
   "source": [
    "obcine.head()"
   ]
  },
  {
   "cell_type": "code",
   "execution_count": 41,
   "metadata": {},
   "outputs": [],
   "source": [
    "obcine = obcine[2:]"
   ]
  },
  {
   "cell_type": "code",
   "execution_count": 57,
   "metadata": {},
   "outputs": [],
   "source": [
    "regije = obcine['Unnamed: 5']\n",
    "frekvence = {}\n",
    "for regija in regije:\n",
    "    frekvence[regija] = frekvence.get(regija, 0) + 1"
   ]
  },
  {
   "cell_type": "code",
   "execution_count": 58,
   "metadata": {},
   "outputs": [
    {
     "data": {
      "text/plain": [
       "{'Pomurska': 27,\n",
       " 'Podravska': 41,\n",
       " 'Koroška': 12,\n",
       " 'Savinjska': 31,\n",
       " 'Zasavska': 4,\n",
       " 'Posavska': 6,\n",
       " 'Jugovzhodna Slovenija': 21,\n",
       " 'Primorsko-notranjska': 6,\n",
       " 'Osrednjeslovenska': 25,\n",
       " 'Gorenjska': 18,\n",
       " 'Goriška': 13,\n",
       " 'Obalno-kraška': 8}"
      ]
     },
     "execution_count": 58,
     "metadata": {},
     "output_type": "execute_result"
    }
   ],
   "source": [
    "frekvence"
   ]
  },
  {
   "cell_type": "code",
   "execution_count": 59,
   "metadata": {},
   "outputs": [
    {
     "data": {
      "text/plain": [
       "{'Pomurska': 0.12735849056603774,\n",
       " 'Podravska': 0.19339622641509435,\n",
       " 'Koroška': 0.05660377358490566,\n",
       " 'Savinjska': 0.14622641509433962,\n",
       " 'Zasavska': 0.018867924528301886,\n",
       " 'Posavska': 0.02830188679245283,\n",
       " 'Jugovzhodna Slovenija': 0.09905660377358491,\n",
       " 'Primorsko-notranjska': 0.02830188679245283,\n",
       " 'Osrednjeslovenska': 0.1179245283018868,\n",
       " 'Gorenjska': 0.08490566037735849,\n",
       " 'Goriška': 0.06132075471698113,\n",
       " 'Obalno-kraška': 0.03773584905660377}"
      ]
     },
     "execution_count": 59,
     "metadata": {},
     "output_type": "execute_result"
    }
   ],
   "source": [
    "n = len(obcine)\n",
    "relativne_frekvence = {regija: frekvence[regija]/n for regija in frekvence}\n",
    "relativne_frekvence"
   ]
  },
  {
   "cell_type": "code",
   "execution_count": 63,
   "metadata": {},
   "outputs": [
    {
     "name": "stdout",
     "output_type": "stream",
     "text": [
      "Pomurska:\t ###########################\n",
      "Podravska:\t #########################################\n",
      "Koroška:\t ############\n",
      "Savinjska:\t ###############################\n",
      "Zasavska:\t ####\n",
      "Posavska:\t ######\n",
      "Jugovzhodna Slovenija:\t #####################\n",
      "Primorsko-notranjska:\t ######\n",
      "Osrednjeslovenska:\t #########################\n",
      "Gorenjska:\t ##################\n",
      "Goriška:\t #############\n",
      "Obalno-kraška:\t ########\n"
     ]
    }
   ],
   "source": [
    "for regija in frekvence:\n",
    "    print(\"{}:\\t {}\".format(regija, frekvence[regija]*\"#\"))"
   ]
  },
  {
   "cell_type": "code",
   "execution_count": 73,
   "metadata": {},
   "outputs": [
    {
     "data": {
      "text/plain": [
       "(array([ 0,  1,  2,  3,  4,  5,  6,  7,  8,  9, 10, 11]),\n",
       " <a list of 12 Text xticklabel objects>)"
      ]
     },
     "execution_count": 73,
     "metadata": {},
     "output_type": "execute_result"
    },
    {
     "data": {
      "image/png": "[encoded data removed]",
      "text/plain": [
       "<Figure size 432x288 with 1 Axes>"
      ]
     },
     "metadata": {
      "needs_background": "light"
     },
     "output_type": "display_data"
    }
   ],
   "source": [
    "plt.bar(range(len(relativne_frekvence)), relativne_frekvence.values(), \n",
    "        tick_label=list(relativne_frekvence.keys()))\n",
    "plt.xticks(rotation=70)"
   ]
  },
  {
   "cell_type": "markdown",
   "metadata": {},
   "source": [
    "## Razpon\n",
    "\n",
    "Naj bo $X$ številska slučajna spremenljivka. **Razpon** je najmanjši interval, na katerem ležijo vse možne vrednosti, ki jih lahko spremenljivka zavzame. Če obstajata minimalna $x_m$ in maksimalna vrednost $x_M$ slučajne spremenljivke $X$ je **razpon** interval $[x_m, x_M]$.\n",
    "\n",
    "## Mediana, kvartili in percentili\n",
    "\n",
    "* 100$p$-ti (per)centil za $p\\in [0, 1]$, je najmanjša vrednost $q_p$, za katero je $P(X\\le q_p)\\ge p$. \n",
    "* 50. percentil se imenuje **mediana**.\n",
    "* Centile za $p=\\frac{k}{4}$ imenujemo kvartili. **Prvi kvartil** je enak 25. percentilu, **drugi kvartil** je enak mediani,  **tretji kvartil** pa je enak 75. percentilu."
   ]
  },
  {
   "cell_type": "markdown",
   "metadata": {},
   "source": [
    "## Naloga\n",
    "\n",
    "Predpostavimo, da je telesna višina odraslih moških porazdeljena normalno $N(180cm, 7cm)$ in telesna višina odraslih žensk $N(168cm, 5cm)$. Kateri percentil in kateri kvartil je najbližji tvoji telesni višini?"
   ]
  },
  {
   "cell_type": "code",
   "execution_count": null,
   "metadata": {},
   "outputs": [],
   "source": [
    "from scipy.stats import norm\n",
    "?norm"
   ]
  },
  {
   "cell_type": "code",
   "execution_count": null,
   "metadata": {},
   "outputs": [],
   "source": []
  },
  {
   "cell_type": "markdown",
   "metadata": {},
   "source": [
    "## Povprečje, standardni odklon"
   ]
  },
  {
   "cell_type": "markdown",
   "metadata": {},
   "source": [
    "## Grafične predstavitve\n",
    "\n",
    "* Knjižnica [matplotlib](https://matplotlib.org/gallery/index.html) za risanje grafov v Pythonu"
   ]
  },
  {
   "cell_type": "markdown",
   "metadata": {},
   "source": [
    "## Histogram\n",
    "\n",
    "* [O histogramih v Pythonu](https://realpython.com/python-histograms/)"
   ]
  },
  {
   "cell_type": "markdown",
   "metadata": {},
   "source": [
    "### Naloga\n",
    "Na spletni strani statističnega urada pridobi podatke o številu prebivalcev po občinah. \n",
    "* Poišči razpon\n",
    "* Razpon razdeli na 10 enakih intervalov/razredov in določi frekvence in relativne frekvence za posamezni razred\n",
    "* Nariši histogram\n",
    "* Katera velikost občine je najbolj pogosta (modus)?\n",
    "* Izberi določeno občino in določi h katerem percentilu in katerem kvartilu spada po številu prebivalcev\n"
   ]
  },
  {
   "cell_type": "code",
   "execution_count": null,
   "metadata": {},
   "outputs": [],
   "source": []
  },
  {
   "cell_type": "markdown",
   "metadata": {},
   "source": [
    "### Naloga\n",
    "Na spletni strani [Gapminder](https://www.gapminder.org/tools) prikaži porazdelitev dohodkov po posameznih državah.\n",
    "* Poišči državo, ki ima največji delež ljudi pod mejo ekstremne revščine.\n",
    "* Primerjaj število ljudi z različnimi nivoji dohodka(income level 1, 2, 3 in 4) glede na celine.\n",
    "* Približno določi mediano dohodka za nekaj največjih držav na različnih celinah"
   ]
  },
  {
   "cell_type": "markdown",
   "metadata": {},
   "source": [
    "## Razsevni diagram"
   ]
  },
  {
   "cell_type": "markdown",
   "metadata": {},
   "source": [
    "## Naloga\n",
    "Na spletni strani Eurostat poišči podatke o vrsti energije po različnih virih. Nariši razsevni diagram med obnovljivimi viri in fosilnimi gorivi. Razvrsti države v različne razrede, glede na strukturo energije."
   ]
  },
  {
   "cell_type": "code",
   "execution_count": null,
   "metadata": {},
   "outputs": [],
   "source": []
  },
  {
   "cell_type": "markdown",
   "metadata": {},
   "source": [
    "## Naloga\n",
    "\n",
    "Na spletni strani [Gapminder](https://www.gapminder.org/tools) prikaži razsevni diagram med **prihodki** in **deležem kmetijskih površin**. \n",
    "* Razvrsti države na različne skupine. Opiši lastnosti posameznih skupin.\n",
    "* Poišči Slovenijo in druge države, ki jih poznaš.\n",
    "\n",
    "Nariši še razsevni diagram med **deležem zaposlenih v kmetijstvu** in **deležem kmetijskih površin**\n",
    "* Poišči državo, ki ima največji delež kmetijskih površin na svetu in v Evropi. Prav tako poišči državo, ki ima največji delež zaposlenih v kmetijstvu.\n",
    "* Poišči države, ki imajo velik delež kmetijskih površin. Katere države imajo kljub temu majhen delež delavcev v kmetijstvu. Razloži, kako je to mogoče.\n",
    "* Poišči Slovenijo. V katero skupino držav spada. Primerjaj jo z Dansko. Poskusi razložiti zakaj takšna razlika!\n"
   ]
  },
  {
   "cell_type": "markdown",
   "metadata": {},
   "source": [
    "## Povezave\n",
    "Nekatere predtstavitve statističnih podatkov\n",
    "* [statistični atlas evrope](http://ec.europa.eu/eurostat/statistical-atlas/gis/viewer)\n",
    "* [gapminder](https://www.gapminder.org/tools/)\n",
    "\n",
    "Viri podatkov za Python\n",
    "* [Seaborn](http://deparkes.co.uk/2015/05/05/seaborn-python-plotting-library/)\n",
    "* [Scikit-learn](http://scikit-learn.org/stable/datasets/)\n",
    "* različni paketi za R-project vsebujejo kar nekaj [podatkovnih nizov](https://vincentarelbundock.github.io/Rdatasets/datasets.html)\n",
    "* https://www.kaggle.com/datasets\n",
    "* https://www.statsmodels.org/dev/datasets/index.html"
   ]
  }
 ],
 "metadata": {
  "kernelspec": {
   "display_name": "Python 3",
   "language": "python",
   "name": "python3"
  },
  "language_info": {
   "codemirror_mode": {
    "name": "ipython",
    "version": 3
   },
   "file_extension": ".py",
   "mimetype": "text/x-python",
   "name": "python",
   "nbconvert_exporter": "python",
   "pygments_lexer": "ipython3",
   "version": "3.6.7"
  }
 },
 "nbformat": 4,
 "nbformat_minor": 2
}
