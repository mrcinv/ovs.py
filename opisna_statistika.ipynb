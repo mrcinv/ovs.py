{
 "cells": [
  {
   "cell_type": "markdown",
   "metadata": {},
   "source": [
    "# Opisna statistika\n",
    "\n",
    "Ta dokument lahko poženete ali pregledate v brskalniku\n",
    "\n",
    "[![Binder](https://mybinder.org/badge.svg)](https://mybinder.org/v2/gh/mrcinv/ovs.py/master) \n",
    "<a href=\"https://nbviewer.jupyter.org/github/mrcinv/ovs.py/blob/master/opisna_statistika.ipynb\">\n",
    "    <img width=\"109\" height=\"20\" src=\"https://raw.githubusercontent.com/jupyter/design/master/logos/Badges/nbviewer_badge.png\"/>\n",
    "</a>\n",
    "\n",
    "Ta dokument si lahko prenesete na svoj računalnik in poženete, tako da v terminalu napišete naslednje\n",
    "\n",
    "    git clone https://github.com/mrcinv/ovs.py.git\n",
    "    cd ovs.py\n",
    "    jupyter-lab &\n",
    "\n",
    "## Kazalo\n",
    "- [frekvence in relativne frekvence](#Frekvence-in-relativne-frekvence)\n",
    "- [razpon](#Razpon), [modus](#modus), [mediana, kvartili, percentili](#Mediana%2C-kvartili-in-percentili)\n",
    "- povprečje, standardni odklon\n",
    "- histogram\n",
    "- grafični prikazi\n",
    "  * [histogram](#Histogram)\n",
    "  * [razsevni diagram](#Razsevni-diagram)"
   ]
  },
  {
   "cell_type": "markdown",
   "metadata": {},
   "source": [
    "## Frekvence in relativne frekvence\n",
    "\n",
    "Naj bo $X$ slučajna spremenljivka in $x_k$ ena izmed možnih vrednosti. \n",
    "\n",
    " * **Frekvenca** vrednosti $x_k$ je število pojavitev vrednosti $x_k$ v celotni populaciji oziroma vzorcu.\n",
    " * **Relativna frekvenca** vrednosti $x_k$ je razmerje med frekvenco in velikostjo celotne populacije oziroma vzorca.\n",
    " \n",
    "## Modus\n",
    "\n",
    "Naj bo $X$ slučajna spremenljivka. **Modus** je vrednost $m\\in Z_X$ z največjo verjetnostjo, z drugimi besedami **modus** $m$ je vrednost, za katero je $P(X=m)$ največja med vsemi možnimi vrednostmi. Modus določimo tako, da pogledamo, kateri podatek se pojavlja najpogosteje. Če vsak podatek nastopa le po enkrat, rečemo, da modusa ni. V primeru, da se več podatkov pojavlja enakomnogokrat najpogosteje, potem je modusov več."
   ]
  },
  {
   "cell_type": "markdown",
   "metadata": {},
   "source": [
    "### Naloga\n",
    "\n",
    "Naloži [podatke](http://www.stat.si/dokument/5424/kohezijske_%20statisticne_obcine.xls) o statističnih pokrajinah in občinah v Sloveniji. Naj bo $P$ spremenljivka, ki za vsako občino pove ime regije. \n",
    "\n",
    "* Določi frekvence in relativne frekvence za posamezne vrednosti $P$. Za vsako pokrajino določi število občin in relativni delež vseh občin.\n",
    "* Katera pokrajina je *modus*? Z drugimi besedami, katera pokrajina ima največ občin?"
   ]
  },
  {
   "cell_type": "code",
   "execution_count": 19,
   "metadata": {},
   "outputs": [],
   "source": [
    "import pandas as pd\n",
    "obcine = pd.read_excel(\"kohezijske_ statisticne_obcine.xls\")"
   ]
  },
  {
   "cell_type": "code",
   "execution_count": 29,
   "metadata": {},
   "outputs": [
    {
     "data": {
      "text/html": [
       "<div>\n",
       "<style scoped>\n",
       "    .dataframe tbody tr th:only-of-type {\n",
       "        vertical-align: middle;\n",
       "    }\n",
       "\n",
       "    .dataframe tbody tr th {\n",
       "        vertical-align: top;\n",
       "    }\n",
       "\n",
       "    .dataframe thead th {\n",
       "        text-align: right;\n",
       "    }\n",
       "</style>\n",
       "<table border=\"1\" class=\"dataframe\">\n",
       "  <thead>\n",
       "    <tr style=\"text-align: right;\">\n",
       "      <th></th>\n",
       "      <th>Kohezijski regiji (2), statistične regije (12) in občine Republike Slovenije (212)</th>\n",
       "      <th>Unnamed: 1</th>\n",
       "      <th>Unnamed: 2</th>\n",
       "      <th>Unnamed: 3</th>\n",
       "      <th>Unnamed: 4</th>\n",
       "      <th>Unnamed: 5</th>\n",
       "      <th>Unnamed: 6</th>\n",
       "      <th>Unnamed: 7</th>\n",
       "    </tr>\n",
       "  </thead>\n",
       "  <tbody>\n",
       "    <tr>\n",
       "      <th>0</th>\n",
       "      <td>NaN</td>\n",
       "      <td>NaN</td>\n",
       "      <td>NaN</td>\n",
       "      <td>NaN</td>\n",
       "      <td>NaN</td>\n",
       "      <td>NaN</td>\n",
       "      <td>NaN</td>\n",
       "      <td>NaN</td>\n",
       "    </tr>\n",
       "    <tr>\n",
       "      <th>1</th>\n",
       "      <td>Šifra kohezijske regije, nacionalna</td>\n",
       "      <td>Šifra kohezijske regije, Eurostat</td>\n",
       "      <td>Ime kohezijske regije</td>\n",
       "      <td>Šifra statistične regije, nacionalna</td>\n",
       "      <td>Šifra statistične regije, Eurostat</td>\n",
       "      <td>Ime statistične regije</td>\n",
       "      <td>Šifra občine</td>\n",
       "      <td>Ime občine</td>\n",
       "    </tr>\n",
       "    <tr>\n",
       "      <th>2</th>\n",
       "      <td>1</td>\n",
       "      <td>SI03</td>\n",
       "      <td>Vzhodna Slovenija</td>\n",
       "      <td>1</td>\n",
       "      <td>SI031</td>\n",
       "      <td>Pomurska</td>\n",
       "      <td>195</td>\n",
       "      <td>Apače</td>\n",
       "    </tr>\n",
       "    <tr>\n",
       "      <th>3</th>\n",
       "      <td>1</td>\n",
       "      <td>SI03</td>\n",
       "      <td>Vzhodna Slovenija</td>\n",
       "      <td>1</td>\n",
       "      <td>SI031</td>\n",
       "      <td>Pomurska</td>\n",
       "      <td>2</td>\n",
       "      <td>Beltinci</td>\n",
       "    </tr>\n",
       "    <tr>\n",
       "      <th>4</th>\n",
       "      <td>1</td>\n",
       "      <td>SI03</td>\n",
       "      <td>Vzhodna Slovenija</td>\n",
       "      <td>1</td>\n",
       "      <td>SI031</td>\n",
       "      <td>Pomurska</td>\n",
       "      <td>152</td>\n",
       "      <td>Cankova</td>\n",
       "    </tr>\n",
       "  </tbody>\n",
       "</table>\n",
       "</div>"
      ],
      "text/plain": [
       "  Kohezijski regiji (2), statistične regije (12) in občine Republike Slovenije (212)  \\\n",
       "0                                                NaN                                   \n",
       "1                Šifra kohezijske regije, nacionalna                                   \n",
       "2                                                  1                                   \n",
       "3                                                  1                                   \n",
       "4                                                  1                                   \n",
       "\n",
       "                          Unnamed: 1             Unnamed: 2  \\\n",
       "0                                NaN                    NaN   \n",
       "1  Šifra kohezijske regije, Eurostat  Ime kohezijske regije   \n",
       "2                               SI03      Vzhodna Slovenija   \n",
       "3                               SI03      Vzhodna Slovenija   \n",
       "4                               SI03      Vzhodna Slovenija   \n",
       "\n",
       "                             Unnamed: 3                          Unnamed: 4  \\\n",
       "0                                   NaN                                 NaN   \n",
       "1  Šifra statistične regije, nacionalna  Šifra statistične regije, Eurostat   \n",
       "2                                     1                               SI031   \n",
       "3                                     1                               SI031   \n",
       "4                                     1                               SI031   \n",
       "\n",
       "               Unnamed: 5    Unnamed: 6  Unnamed: 7  \n",
       "0                     NaN           NaN         NaN  \n",
       "1  Ime statistične regije  Šifra občine  Ime občine  \n",
       "2                Pomurska           195       Apače  \n",
       "3                Pomurska             2    Beltinci  \n",
       "4                Pomurska           152     Cankova  "
      ]
     },
     "execution_count": 29,
     "metadata": {},
     "output_type": "execute_result"
    }
   ],
   "source": [
    "obcine.head()"
   ]
  },
  {
   "cell_type": "code",
   "execution_count": 41,
   "metadata": {},
   "outputs": [],
   "source": [
    "obcine = obcine[2:]"
   ]
  },
  {
   "cell_type": "code",
   "execution_count": 57,
   "metadata": {},
   "outputs": [],
   "source": [
    "regije = obcine['Unnamed: 5']\n",
    "frekvence = {}\n",
    "for regija in regije:\n",
    "    frekvence[regija] = frekvence.get(regija, 0) + 1"
   ]
  },
  {
   "cell_type": "code",
   "execution_count": 58,
   "metadata": {},
   "outputs": [
    {
     "data": {
      "text/plain": [
       "{'Pomurska': 27,\n",
       " 'Podravska': 41,\n",
       " 'Koroška': 12,\n",
       " 'Savinjska': 31,\n",
       " 'Zasavska': 4,\n",
       " 'Posavska': 6,\n",
       " 'Jugovzhodna Slovenija': 21,\n",
       " 'Primorsko-notranjska': 6,\n",
       " 'Osrednjeslovenska': 25,\n",
       " 'Gorenjska': 18,\n",
       " 'Goriška': 13,\n",
       " 'Obalno-kraška': 8}"
      ]
     },
     "execution_count": 58,
     "metadata": {},
     "output_type": "execute_result"
    }
   ],
   "source": [
    "frekvence"
   ]
  },
  {
   "cell_type": "code",
   "execution_count": 59,
   "metadata": {},
   "outputs": [
    {
     "data": {
      "text/plain": [
       "{'Pomurska': 0.12735849056603774,\n",
       " 'Podravska': 0.19339622641509435,\n",
       " 'Koroška': 0.05660377358490566,\n",
       " 'Savinjska': 0.14622641509433962,\n",
       " 'Zasavska': 0.018867924528301886,\n",
       " 'Posavska': 0.02830188679245283,\n",
       " 'Jugovzhodna Slovenija': 0.09905660377358491,\n",
       " 'Primorsko-notranjska': 0.02830188679245283,\n",
       " 'Osrednjeslovenska': 0.1179245283018868,\n",
       " 'Gorenjska': 0.08490566037735849,\n",
       " 'Goriška': 0.06132075471698113,\n",
       " 'Obalno-kraška': 0.03773584905660377}"
      ]
     },
     "execution_count": 59,
     "metadata": {},
     "output_type": "execute_result"
    }
   ],
   "source": [
    "n = len(obcine)\n",
    "relativne_frekvence = {regija: frekvence[regija]/n for regija in frekvence}\n",
    "relativne_frekvence"
   ]
  },
  {
   "cell_type": "code",
   "execution_count": 63,
   "metadata": {},
   "outputs": [
    {
     "name": "stdout",
     "output_type": "stream",
     "text": [
      "Pomurska:\t ###########################\n",
      "Podravska:\t #########################################\n",
      "Koroška:\t ############\n",
      "Savinjska:\t ###############################\n",
      "Zasavska:\t ####\n",
      "Posavska:\t ######\n",
      "Jugovzhodna Slovenija:\t #####################\n",
      "Primorsko-notranjska:\t ######\n",
      "Osrednjeslovenska:\t #########################\n",
      "Gorenjska:\t ##################\n",
      "Goriška:\t #############\n",
      "Obalno-kraška:\t ########\n"
     ]
    }
   ],
   "source": [
    "for regija in frekvence:\n",
    "    print(\"{}:\\t {}\".format(regija, frekvence[regija]*\"#\"))"
   ]
  },
  {
   "cell_type": "code",
   "execution_count": 73,
   "metadata": {},
   "outputs": [
    {
     "data": {
      "text/plain": [
       "(array([ 0,  1,  2,  3,  4,  5,  6,  7,  8,  9, 10, 11]),\n",
       " <a list of 12 Text xticklabel objects>)"
      ]
     },
     "execution_count": 73,
     "metadata": {},
     "output_type": "execute_result"
    },
    {
     "data": {
      "image/png": "[encoded data removed]",
      "text/plain": [
       "<Figure size 432x288 with 1 Axes>"
      ]
     },
     "metadata": {
      "needs_background": "light"
     },
     "output_type": "display_data"
    }
   ],
   "source": [
    "plt.bar(range(len(relativne_frekvence)), relativne_frekvence.values(), \n",
    "        tick_label=list(relativne_frekvence.keys()))\n",
    "plt.xticks(rotation=70)"
   ]
  },
  {
   "cell_type": "markdown",
   "metadata": {},
   "source": [
    "## Razpon\n",
    "\n",
    "Naj bo $X$ številska slučajna spremenljivka. **Razpon** je najmanjši interval, na katerem ležijo vse možne vrednosti, ki jih lahko spremenljivka zavzame. Če obstajata minimalna $x_m$ in maksimalna vrednost $x_M$ slučajne spremenljivke $X$ je **razpon** interval $[x_m, x_M]$.\n",
    "\n",
    "## Mediana, kvartili in percentili\n",
    "\n",
    "* 100$p$-ti (per)centil za $p\\in [0, 1]$, je najmanjša vrednost $q_p$, za katero je $P(X\\le q_p)\\ge p$. \n",
    "* 50. percentil se imenuje **mediana**.\n",
    "* Centile za $p=\\frac{k}{4}$ imenujemo kvartili. **Prvi kvartil** je enak 25. percentilu, **drugi kvartil** je enak mediani,  **tretji kvartil** pa je enak 75. percentilu."
   ]
  },
  {
   "cell_type": "markdown",
   "metadata": {},
   "source": [
    "## Naloga\n",
    "\n",
    "Predpostavimo, da je telesna višina odraslih moških porazdeljena normalno $N(180cm, 7cm)$ in telesna višina odraslih žensk $N(168cm, 5cm)$. Kateri percentil in kateri kvartil je najbližji tvoji telesni višini?"
   ]
  },
  {
   "cell_type": "code",
   "execution_count": 74,
   "metadata": {},
   "outputs": [
    {
     "data": {
      "text/plain": [
       "\u001b[0;31mSignature:\u001b[0m       \u001b[0mnorm\u001b[0m\u001b[0;34m(\u001b[0m\u001b[0;34m*\u001b[0m\u001b[0margs\u001b[0m\u001b[0;34m,\u001b[0m \u001b[0;34m**\u001b[0m\u001b[0mkwds\u001b[0m\u001b[0;34m)\u001b[0m\u001b[0;34m\u001b[0m\u001b[0;34m\u001b[0m\u001b[0m\n",
       "\u001b[0;31mType:\u001b[0m            norm_gen\n",
       "\u001b[0;31mString form:\u001b[0m     <scipy.stats._continuous_distns.norm_gen object at 0x7f99591e8438>\n",
       "\u001b[0;31mFile:\u001b[0m            /usr/lib/python3/dist-packages/scipy/stats/_continuous_distns.py\n",
       "\u001b[0;31mDocstring:\u001b[0m      \n",
       "A normal continuous random variable.\n",
       "\n",
       "The location (loc) keyword specifies the mean.\n",
       "The scale (scale) keyword specifies the standard deviation.\n",
       "\n",
       "As an instance of the `rv_continuous` class, `norm` object inherits from it\n",
       "a collection of generic methods (see below for the full list),\n",
       "and completes them with details specific for this particular distribution.\n",
       "\n",
       "Methods\n",
       "-------\n",
       "rvs(loc=0, scale=1, size=1, random_state=None)\n",
       "    Random variates.\n",
       "pdf(x, loc=0, scale=1)\n",
       "    Probability density function.\n",
       "logpdf(x, loc=0, scale=1)\n",
       "    Log of the probability density function.\n",
       "cdf(x, loc=0, scale=1)\n",
       "    Cumulative distribution function.\n",
       "logcdf(x, loc=0, scale=1)\n",
       "    Log of the cumulative distribution function.\n",
       "sf(x, loc=0, scale=1)\n",
       "    Survival function  (also defined as ``1 - cdf``, but `sf` is sometimes more accurate).\n",
       "logsf(x, loc=0, scale=1)\n",
       "    Log of the survival function.\n",
       "ppf(q, loc=0, scale=1)\n",
       "    Percent point function (inverse of ``cdf`` --- percentiles).\n",
       "isf(q, loc=0, scale=1)\n",
       "    Inverse survival function (inverse of ``sf``).\n",
       "moment(n, loc=0, scale=1)\n",
       "    Non-central moment of order n\n",
       "stats(loc=0, scale=1, moments='mv')\n",
       "    Mean('m'), variance('v'), skew('s'), and/or kurtosis('k').\n",
       "entropy(loc=0, scale=1)\n",
       "    (Differential) entropy of the RV.\n",
       "fit(data, loc=0, scale=1)\n",
       "    Parameter estimates for generic data.\n",
       "expect(func, args=(), loc=0, scale=1, lb=None, ub=None, conditional=False, **kwds)\n",
       "    Expected value of a function (of one argument) with respect to the distribution.\n",
       "median(loc=0, scale=1)\n",
       "    Median of the distribution.\n",
       "mean(loc=0, scale=1)\n",
       "    Mean of the distribution.\n",
       "var(loc=0, scale=1)\n",
       "    Variance of the distribution.\n",
       "std(loc=0, scale=1)\n",
       "    Standard deviation of the distribution.\n",
       "interval(alpha, loc=0, scale=1)\n",
       "    Endpoints of the range that contains alpha percent of the distribution\n",
       "\n",
       "Notes\n",
       "-----\n",
       "The probability density function for `norm` is:\n",
       "\n",
       ".. math::\n",
       "\n",
       "    f(x) = \\frac{\\exp(-x^2/2)}{\\sqrt{2\\pi}}\n",
       "\n",
       "The survival function, ``norm.sf``, is also referred to as the\n",
       "Q-function in some contexts (see, e.g.,\n",
       "`Wikipedia's <https://en.wikipedia.org/wiki/Q-function>`_ definition).\n",
       "\n",
       "The probability density above is defined in the \"standardized\" form. To shift\n",
       "and/or scale the distribution use the ``loc`` and ``scale`` parameters.\n",
       "Specifically, ``norm.pdf(x, loc, scale)`` is identically\n",
       "equivalent to ``norm.pdf(y) / scale`` with\n",
       "``y = (x - loc) / scale``.\n",
       "\n",
       "Examples\n",
       "--------\n",
       ">>> from scipy.stats import norm\n",
       ">>> import matplotlib.pyplot as plt\n",
       ">>> fig, ax = plt.subplots(1, 1)\n",
       "\n",
       "Calculate a few first moments:\n",
       "\n",
       "\n",
       ">>> mean, var, skew, kurt = norm.stats(moments='mvsk')\n",
       "\n",
       "Display the probability density function (``pdf``):\n",
       "\n",
       ">>> x = np.linspace(norm.ppf(0.01),\n",
       "...                 norm.ppf(0.99), 100)\n",
       ">>> ax.plot(x, norm.pdf(x),\n",
       "...        'r-', lw=5, alpha=0.6, label='norm pdf')\n",
       "\n",
       "Alternatively, the distribution object can be called (as a function)\n",
       "to fix the shape, location and scale parameters. This returns a \"frozen\"\n",
       "RV object holding the given parameters fixed.\n",
       "\n",
       "Freeze the distribution and display the frozen ``pdf``:\n",
       "\n",
       ">>> rv = norm()\n",
       ">>> ax.plot(x, rv.pdf(x), 'k-', lw=2, label='frozen pdf')\n",
       "\n",
       "Check accuracy of ``cdf`` and ``ppf``:\n",
       "\n",
       ">>> vals = norm.ppf([0.001, 0.5, 0.999])\n",
       ">>> np.allclose([0.001, 0.5, 0.999], norm.cdf(vals))\n",
       "True\n",
       "\n",
       "Generate random numbers:\n",
       "\n",
       ">>> r = norm.rvs(size=1000)\n",
       "\n",
       "And compare the histogram:\n",
       "\n",
       ">>> ax.hist(r, density=True, histtype='stepfilled', alpha=0.2)\n",
       ">>> ax.legend(loc='best', frameon=False)\n",
       ">>> plt.show()\n",
       "\u001b[0;31mClass docstring:\u001b[0m\n",
       "A normal continuous random variable.\n",
       "\n",
       "The location (loc) keyword specifies the mean.\n",
       "The scale (scale) keyword specifies the standard deviation.\n",
       "\n",
       "%(before_notes)s\n",
       "\n",
       "Notes\n",
       "-----\n",
       "The probability density function for `norm` is:\n",
       "\n",
       ".. math::\n",
       "\n",
       "    f(x) = \\frac{\\exp(-x^2/2)}{\\sqrt{2\\pi}}\n",
       "\n",
       "The survival function, ``norm.sf``, is also referred to as the\n",
       "Q-function in some contexts (see, e.g.,\n",
       "`Wikipedia's <https://en.wikipedia.org/wiki/Q-function>`_ definition).\n",
       "\n",
       "%(after_notes)s\n",
       "\n",
       "%(example)s\n",
       "\u001b[0;31mCall docstring:\u001b[0m \n",
       "Freeze the distribution for the given arguments.\n",
       "\n",
       "Parameters\n",
       "----------\n",
       "arg1, arg2, arg3,... : array_like\n",
       "    The shape parameter(s) for the distribution.  Should include all\n",
       "    the non-optional arguments, may include ``loc`` and ``scale``.\n",
       "\n",
       "Returns\n",
       "-------\n",
       "rv_frozen : rv_frozen instance\n",
       "    The frozen distribution.\n"
      ]
     },
     "metadata": {},
     "output_type": "display_data"
    }
   ],
   "source": [
    "from scipy.stats import norm\n",
    "?norm"
   ]
  },
  {
   "cell_type": "code",
   "execution_count": 77,
   "metadata": {},
   "outputs": [
    {
     "data": {
      "text/plain": [
       "87.34510455264423"
      ]
     },
     "execution_count": 77,
     "metadata": {},
     "output_type": "execute_result"
    }
   ],
   "source": [
    "norm.cdf(188, 180, 7)*100"
   ]
  },
  {
   "cell_type": "code",
   "execution_count": 82,
   "metadata": {},
   "outputs": [
    {
     "data": {
      "text/plain": [
       "[175.27857174862743, 180.0, 184.72142825137257]"
      ]
     },
     "execution_count": 82,
     "metadata": {},
     "output_type": "execute_result"
    }
   ],
   "source": [
    "# kvartili\n",
    "[norm.ppf(p, 180, 7) for p in [0.25, 0.5, 0.75]]"
   ]
  },
  {
   "cell_type": "markdown",
   "metadata": {},
   "source": [
    "## Povprečje, standardni odklon"
   ]
  },
  {
   "cell_type": "markdown",
   "metadata": {},
   "source": [
    "## Grafične predstavitve\n",
    "\n",
    "* Knjižnica [matplotlib](https://matplotlib.org/gallery/index.html) za risanje grafov v Pythonu"
   ]
  },
  {
   "cell_type": "markdown",
   "metadata": {},
   "source": [
    "## Histogram\n",
    "\n",
    "* [O histogramih v Pythonu](https://realpython.com/python-histograms/)"
   ]
  },
  {
   "cell_type": "markdown",
   "metadata": {},
   "source": [
    "### Naloga\n",
    "Na spletni strani statističnega urada pridobi podatke o številu prebivalcev po občinah. \n",
    "* Poišči razpon\n",
    "* Razpon razdeli na 10 enakih intervalov/razredov in določi frekvence in relativne frekvence za posamezni razred\n",
    "* Nariši histogram\n",
    "* Katera velikost občine je najbolj pogosta (modus)?\n",
    "* Izberi določeno občino in določi h katerem percentilu in katerem kvartilu spada po številu prebivalcev\n"
   ]
  },
  {
   "cell_type": "code",
   "execution_count": 89,
   "metadata": {},
   "outputs": [
    {
     "data": {
      "text/html": [
       "<div>\n",
       "<style scoped>\n",
       "    .dataframe tbody tr th:only-of-type {\n",
       "        vertical-align: middle;\n",
       "    }\n",
       "\n",
       "    .dataframe tbody tr th {\n",
       "        vertical-align: top;\n",
       "    }\n",
       "\n",
       "    .dataframe thead th {\n",
       "        text-align: right;\n",
       "    }\n",
       "</style>\n",
       "<table border=\"1\" class=\"dataframe\">\n",
       "  <thead>\n",
       "    <tr style=\"text-align: right;\">\n",
       "      <th></th>\n",
       "      <th>Občina</th>\n",
       "      <th>prebivalci</th>\n",
       "    </tr>\n",
       "  </thead>\n",
       "  <tbody>\n",
       "    <tr>\n",
       "      <th>0</th>\n",
       "      <td>Ajdovčina</td>\n",
       "      <td>19154</td>\n",
       "    </tr>\n",
       "    <tr>\n",
       "      <th>1</th>\n",
       "      <td>Ankaran/Ancarano</td>\n",
       "      <td>3216</td>\n",
       "    </tr>\n",
       "    <tr>\n",
       "      <th>2</th>\n",
       "      <td>Apače</td>\n",
       "      <td>3510</td>\n",
       "    </tr>\n",
       "    <tr>\n",
       "      <th>3</th>\n",
       "      <td>Beltinci</td>\n",
       "      <td>8159</td>\n",
       "    </tr>\n",
       "    <tr>\n",
       "      <th>4</th>\n",
       "      <td>Benedikt</td>\n",
       "      <td>2559</td>\n",
       "    </tr>\n",
       "  </tbody>\n",
       "</table>\n",
       "</div>"
      ],
      "text/plain": [
       "             Občina  prebivalci\n",
       "0        Ajdovčina       19154\n",
       "1  Ankaran/Ancarano        3216\n",
       "2             Apače        3510\n",
       "3          Beltinci        8159\n",
       "4          Benedikt        2559"
      ]
     },
     "execution_count": 89,
     "metadata": {},
     "output_type": "execute_result"
    }
   ],
   "source": [
    "obcine = pd.read_csv(\"podatki/obcine.csv\", encoding=\"latin2\")\n",
    "obcine.head()"
   ]
  },
  {
   "cell_type": "code",
   "execution_count": 91,
   "metadata": {},
   "outputs": [
    {
     "data": {
      "text/plain": [
       "(359, 289832)"
      ]
     },
     "execution_count": 91,
     "metadata": {},
     "output_type": "execute_result"
    }
   ],
   "source": [
    "prebivalci = obcine.prebivalci\n",
    "m, M = min(prebivalci), max(prebivalci)\n",
    "m, M"
   ]
  },
  {
   "cell_type": "code",
   "execution_count": 123,
   "metadata": {},
   "outputs": [
    {
     "data": {
      "text/plain": [
       "(array([202.,   8.,   0.,   1.,   0.,   0.,   0.,   0.,   0.,   1.]),\n",
       " array([   359. ,  29306.3,  58253.6,  87200.9, 116148.2, 145095.5,\n",
       "        174042.8, 202990.1, 231937.4, 260884.7, 289832. ]),\n",
       " <a list of 10 Patch objects>)"
      ]
     },
     "execution_count": 123,
     "metadata": {},
     "output_type": "execute_result"
    },
    {
     "data": {
      "image/png": "[encoded data removed]",
      "text/plain": [
       "<Figure size 432x288 with 1 Axes>"
      ]
     },
     "metadata": {
      "needs_background": "light"
     },
     "output_type": "display_data"
    }
   ],
   "source": [
    "plt.hist(prebivalci, bins=10)"
   ]
  },
  {
   "cell_type": "markdown",
   "metadata": {},
   "source": [
    "### Naloga\n",
    "Na spletni strani [Gapminder](https://www.gapminder.org/tools) prikaži porazdelitev dohodkov po posameznih državah.\n",
    "* Poišči državo, ki ima največji delež ljudi pod mejo ekstremne revščine.\n",
    "* Primerjaj število ljudi z različnimi nivoji dohodka(income level 1, 2, 3 in 4) glede na celine.\n",
    "* Približno določi mediano dohodka za nekaj največjih držav na različnih celinah"
   ]
  },
  {
   "cell_type": "markdown",
   "metadata": {},
   "source": [
    "## Razsevni diagram"
   ]
  },
  {
   "cell_type": "markdown",
   "metadata": {},
   "source": [
    "## Naloga\n",
    "Na spletni strani Eurostat poišči podatke o vrsti energije po različnih virih. Nariši razsevni diagram med obnovljivimi viri in fosilnimi gorivi. Razvrsti države v različne razrede, glede na strukturo energije."
   ]
  },
  {
   "cell_type": "code",
   "execution_count": null,
   "metadata": {},
   "outputs": [],
   "source": []
  },
  {
   "cell_type": "markdown",
   "metadata": {},
   "source": [
    "## Naloga\n",
    "\n",
    "Na spletni strani [Gapminder](https://www.gapminder.org/tools) prikaži razsevni diagram med **prihodki** in **deležem kmetijskih površin**. \n",
    "* Razvrsti države na različne skupine. Opiši lastnosti posameznih skupin.\n",
    "* Poišči Slovenijo in druge države, ki jih poznaš.\n",
    "\n",
    "Nariši še razsevni diagram med **deležem zaposlenih v kmetijstvu** in **deležem kmetijskih površin**\n",
    "* Poišči državo, ki ima največji delež kmetijskih površin na svetu in v Evropi. Prav tako poišči državo, ki ima največji delež zaposlenih v kmetijstvu.\n",
    "* Poišči države, ki imajo velik delež kmetijskih površin. Katere države imajo kljub temu majhen delež delavcev v kmetijstvu. Razloži, kako je to mogoče.\n",
    "* Poišči Slovenijo. V katero skupino držav spada. Primerjaj jo z Dansko. Poskusi razložiti zakaj takšna razlika!\n"
   ]
  },
  {
   "cell_type": "markdown",
   "metadata": {},
   "source": [
    "## Povezave\n",
    "Nekatere predtstavitve statističnih podatkov\n",
    "* [statistični atlas evrope](http://ec.europa.eu/eurostat/statistical-atlas/gis/viewer)\n",
    "* [gapminder](https://www.gapminder.org/tools/)\n",
    "\n",
    "Viri podatkov za Python\n",
    "* [Seaborn](http://deparkes.co.uk/2015/05/05/seaborn-python-plotting-library/)\n",
    "* [Scikit-learn](http://scikit-learn.org/stable/datasets/)\n",
    "* različni paketi za R-project vsebujejo kar nekaj [podatkovnih nizov](https://vincentarelbundock.github.io/Rdatasets/datasets.html)\n",
    "* https://www.kaggle.com/datasets\n",
    "* https://www.statsmodels.org/dev/datasets/index.html"
   ]
  }
 ],
 "metadata": {
  "kernelspec": {
   "display_name": "Python 3",
   "language": "python",
   "name": "python3"
  },
  "language_info": {
   "codemirror_mode": {
    "name": "ipython",
    "version": 3
   },
   "file_extension": ".py",
   "mimetype": "text/x-python",
   "name": "python",
   "nbconvert_exporter": "python",
   "pygments_lexer": "ipython3",
   "version": "3.6.7"
  }
 },
 "nbformat": 4,
 "nbformat_minor": 2
}
