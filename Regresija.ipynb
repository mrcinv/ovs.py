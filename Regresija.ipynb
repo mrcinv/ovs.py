{
 "cells": [
  {
   "cell_type": "markdown",
   "metadata": {},
   "source": [
    "# Regresija\n",
    "\n",
    "Opazujemo, kako sta dve slučajni spremenljivki $X$ in $Y$ povezani.\n",
    "\n",
    "## Regresijski premici\n",
    "Odvisnost $X$ in $Y$ opišemo z regresijskimi premicami\n",
    "$$Y = b_1X + a_1$$\n",
    "in \n",
    "$$X = b_2Y + a_2$$\n",
    "Parametra $b_1$ in $a_1$ lahko izrazimo s korelacijskim koeficientom in standardnim odklonom\n",
    "$$b_1 = \\frac{K(X,Y)}{\\sigma_X^2}$$\n",
    "in \n",
    "$$a_1 = E(Y)- b_1 E(X).$$\n",
    "Podobno lahko izrazimo tudi parametra $a_2$ in $b_2$.\n",
    "### Ocena za koeficiente regresijske premice na podlagi vzorca\n",
    "\n",
    "Definiramo naslednje količine\n",
    "$$C(X,Y) = \\sum (x_i-\\bar{x})(y_i - \\bar{y})$$\n",
    "in \n",
    "$$C(X)^2 = C(X,X)= \\sum (x_i-\\bar{x})^2$$\n",
    "Potem lahko **ocene** za parametre $b_1$ in $a_1$ izrazimo kot\n",
    "$$\\hat{b}_1 = \\frac{C(X,Y)}{C(X)^2}$$\n",
    "in \n",
    "$$\\hat{a}_1 = \\bar{y} - \\hat{b}_1\\bar{x}$$ "
   ]
  },
  {
   "cell_type": "code",
   "execution_count": 4,
   "metadata": {
    "collapsed": false
   },
   "outputs": [
    {
     "name": "stdout",
     "output_type": "stream",
     "text": [
      "Using matplotlib backend: Qt4Agg\n",
      "Populating the interactive namespace from numpy and matplotlib\n"
     ]
    }
   ],
   "source": [
    "%pylab\n",
    "%matplotlib inline"
   ]
  },
  {
   "cell_type": "code",
   "execution_count": 2,
   "metadata": {
    "collapsed": true
   },
   "outputs": [],
   "source": [
    "x = [1, 2, 3, 4, 5]\n",
    "y = [2, 6, 7, 10, 10] "
   ]
  },
  {
   "cell_type": "code",
   "execution_count": 7,
   "metadata": {
    "collapsed": false
   },
   "outputs": [
    {
     "data": {
      "text/plain": [
       "[<matplotlib.lines.Line2D at 0x3c50864400>]"
      ]
     },
     "execution_count": 7,
     "metadata": {},
     "output_type": "execute_result"
    },
    {
     "data": {
      "image/png": "[encoded data removed]",
      "text/plain": [
       "<matplotlib.figure.Figure at 0x3c508644e0>"
      ]
     },
     "metadata": {},
     "output_type": "display_data"
    }
   ],
   "source": [
    "plot(x, y, 'o')\n",
    "plot([0, 6], [1, 13])"
   ]
  },
  {
   "cell_type": "code",
   "execution_count": 9,
   "metadata": {
    "collapsed": false
   },
   "outputs": [
    {
     "name": "stdout",
     "output_type": "stream",
     "text": [
      "Napoved za Y pri X=10 je enaka vrednosti 21\n"
     ]
    }
   ],
   "source": [
    "print(\"Napoved za Y pri X=10 je enaka vrednosti {}\".format(2*10+1))"
   ]
  },
  {
   "cell_type": "markdown",
   "metadata": {},
   "source": [
    "# Zveza med telesno višino in telesno težo\n"
   ]
  },
  {
   "cell_type": "code",
   "execution_count": 15,
   "metadata": {
    "collapsed": true
   },
   "outputs": [],
   "source": [
    "v = array([188, 190, 180, 194, 180, 172, 173, 172, 183, 180, 175])\n",
    "t = array([108, 90, 95, 83, 73, 80, 60, 57, 66, 80, 70])"
   ]
  },
  {
   "cell_type": "code",
   "execution_count": 12,
   "metadata": {
    "collapsed": false
   },
   "outputs": [
    {
     "data": {
      "text/plain": [
       "[<matplotlib.lines.Line2D at 0x3c5091bf28>]"
      ]
     },
     "execution_count": 12,
     "metadata": {},
     "output_type": "execute_result"
    },
    {
     "data": {
      "image/png": "[encoded data removed]",
      "text/plain": [
       "<matplotlib.figure.Figure at 0x3c508d4cc0>"
      ]
     },
     "metadata": {},
     "output_type": "display_data"
    }
   ],
   "source": [
    "plot(v, t, 'o')"
   ]
  },
  {
   "cell_type": "code",
   "execution_count": 13,
   "metadata": {
    "collapsed": false
   },
   "outputs": [
    {
     "data": {
      "text/plain": [
       "180.63636363636363"
      ]
     },
     "execution_count": 13,
     "metadata": {},
     "output_type": "execute_result"
    }
   ],
   "source": [
    "vp = sum(v)/len(v)\n",
    "vp"
   ]
  },
  {
   "cell_type": "code",
   "execution_count": 14,
   "metadata": {
    "collapsed": false
   },
   "outputs": [
    {
     "data": {
      "text/plain": [
       "78.36363636363636"
      ]
     },
     "execution_count": 14,
     "metadata": {},
     "output_type": "execute_result"
    }
   ],
   "source": [
    "tp = mean(t)\n",
    "tp"
   ]
  },
  {
   "cell_type": "code",
   "execution_count": 20,
   "metadata": {
    "collapsed": false
   },
   "outputs": [],
   "source": [
    "CX2 = sum((v-vp)**2)\n",
    "CXY = sum((v-vp)*(t-tp))\n",
    "b = CXY/CX2"
   ]
  },
  {
   "cell_type": "code",
   "execution_count": 21,
   "metadata": {
    "collapsed": false
   },
   "outputs": [
    {
     "data": {
      "text/plain": [
       "1.252246469833119"
      ]
     },
     "execution_count": 21,
     "metadata": {},
     "output_type": "execute_result"
    }
   ],
   "source": [
    "b"
   ]
  },
  {
   "cell_type": "code",
   "execution_count": 23,
   "metadata": {
    "collapsed": false
   },
   "outputs": [
    {
     "data": {
      "text/plain": [
       "-147.83761232349161"
      ]
     },
     "execution_count": 23,
     "metadata": {},
     "output_type": "execute_result"
    }
   ],
   "source": [
    "a = tp -b*vp\n",
    "a"
   ]
  },
  {
   "cell_type": "code",
   "execution_count": 24,
   "metadata": {
    "collapsed": true
   },
   "outputs": [],
   "source": [
    "# Napoved teže za višino 210cm"
   ]
  },
  {
   "cell_type": "code",
   "execution_count": 32,
   "metadata": {
    "collapsed": false
   },
   "outputs": [
    {
     "name": "stdout",
     "output_type": "stream",
     "text": [
      "Pri telesni višini 210 je povprečna teža enaka 115.1341463414634kg\n"
     ]
    }
   ],
   "source": [
    "print(\"Pri telesni višini {} je povprečna teža enaka {}kg\".format(210,b*210+a))"
   ]
  },
  {
   "cell_type": "code",
   "execution_count": 33,
   "metadata": {
    "collapsed": false
   },
   "outputs": [
    {
     "name": "stdout",
     "output_type": "stream",
     "text": [
      "Pri telesni višini 160 je povprečna teža enaka 52.52182284980745kg\n"
     ]
    }
   ],
   "source": [
    "print(\"Pri telesni višini {} je povprečna teža enaka {}kg\".format(160,b*160+a))"
   ]
  },
  {
   "cell_type": "code",
   "execution_count": 29,
   "metadata": {
    "collapsed": false
   },
   "outputs": [
    {
     "data": {
      "text/plain": [
       "array([ 20.41527599,  -0.08921694,  17.43324775, -12.09820282,\n",
       "        -4.56675225,  12.45121951,  -8.80102696, -10.54878049,\n",
       "       -15.32349166,   2.43324775,  -1.3055199 ])"
      ]
     },
     "execution_count": 29,
     "metadata": {},
     "output_type": "execute_result"
    }
   ],
   "source": [
    "(t-(b*v+a))"
   ]
  },
  {
   "cell_type": "code",
   "execution_count": 37,
   "metadata": {
    "collapsed": false
   },
   "outputs": [
    {
     "data": {
      "text/plain": [
       "<matplotlib.text.Text at 0x3c52350518>"
      ]
     },
     "execution_count": 37,
     "metadata": {},
     "output_type": "execute_result"
    },
    {
     "data": {
      "image/png": "[encoded data removed]",
      "text/plain": [
       "<matplotlib.figure.Figure at 0x3c509335f8>"
      ]
     },
     "metadata": {},
     "output_type": "display_data"
    }
   ],
   "source": [
    "v0 = array([160, 210])\n",
    "plot(v, t, 'o')\n",
    "plot(v0, b*v0+a)\n",
    "title(\"zveza med telesno višino v in telesno težo t\")\n",
    "xlabel(\"telesna višina (v cm)\")\n",
    "ylabel(\"telesna teža (v kg)\")"
   ]
  },
  {
   "cell_type": "markdown",
   "metadata": {},
   "source": [
    "# Indeks telesne teže\n",
    "Boljši model odvisnosti telesne teže od višine je kvadratna odvisnost z [indeksom telesne mase](https://sl.wikipedia.org/wiki/Indeks_telesne_mase)\n",
    "\n",
    "$$bmi = \\frac{m}{(v/100)^2}$$\n",
    "s katerim lahko opišemo odvisnost telesne mase kot \n",
    "$$m = bmi (v/100)^2$$\n",
    "Za oceno normalnega $bmi$ lahko uporabimo [metodo najmanjših kvadratov](https://en.wikipedia.org/wiki/Least_squares)"
   ]
  },
  {
   "cell_type": "code",
   "execution_count": 45,
   "metadata": {
    "collapsed": false
   },
   "outputs": [
    {
     "name": "stdout",
     "output_type": "stream",
     "text": [
      "ocena za povprečen bmi je 24.043096246396047\n"
     ]
    }
   ],
   "source": [
    "v_100 = (v/100)**2\n",
    "v_100p = mean(v_100)\n",
    "bmi_p = sum(v_100*t)/sum((v_100)**2)\n",
    "print(\"ocena za povprečen bmi je {}\".format(bmi_p))"
   ]
  },
  {
   "cell_type": "code",
   "execution_count": 41,
   "metadata": {
    "collapsed": true
   },
   "outputs": [],
   "source": [
    "bmi = t/(v_100)"
   ]
  },
  {
   "cell_type": "code",
   "execution_count": 42,
   "metadata": {
    "collapsed": false
   },
   "outputs": [
    {
     "data": {
      "text/plain": [
       "array([ 30.55681304,  24.93074792,  29.32098765,  22.05335317,\n",
       "        22.5308642 ,  27.04164413,  20.04744562,  19.26717144,\n",
       "        19.70796381,  24.69135802,  22.85714286])"
      ]
     },
     "execution_count": 42,
     "metadata": {},
     "output_type": "execute_result"
    }
   ],
   "source": [
    "bmi"
   ]
  },
  {
   "cell_type": "code",
   "execution_count": 43,
   "metadata": {
    "collapsed": false
   },
   "outputs": [
    {
     "data": {
      "text/plain": [
       "-33.268173632220339"
      ]
     },
     "execution_count": 43,
     "metadata": {},
     "output_type": "execute_result"
    }
   ],
   "source": [
    "tp - bmi_p*v_100p"
   ]
  },
  {
   "cell_type": "code",
   "execution_count": 44,
   "metadata": {
    "collapsed": false
   },
   "outputs": [
    {
     "data": {
      "text/plain": [
       "3.2681"
      ]
     },
     "execution_count": 44,
     "metadata": {},
     "output_type": "execute_result"
    }
   ],
   "source": [
    "v_100p"
   ]
  },
  {
   "cell_type": "code",
   "execution_count": 54,
   "metadata": {
    "collapsed": false
   },
   "outputs": [
    {
     "data": {
      "text/plain": [
       "<matplotlib.text.Text at 0x3c529610f0>"
      ]
     },
     "execution_count": 54,
     "metadata": {},
     "output_type": "execute_result"
    },
    {
     "data": {
      "image/png": "[encoded data removed]",
      "text/plain": [
       "<matplotlib.figure.Figure at 0x3c52930a90>"
      ]
     },
     "metadata": {},
     "output_type": "display_data"
    }
   ],
   "source": [
    "x = linspace(150, 210)\n",
    "plot(v, t, 'o')\n",
    "plot(x, bmi_p*(x/100)**2, label=\"$bmi=bmi_p$\")\n",
    "legend()\n",
    "title(\"Regresijska parabola\")"
   ]
  },
  {
   "cell_type": "code",
   "execution_count": null,
   "metadata": {
    "collapsed": true
   },
   "outputs": [],
   "source": []
  }
 ],
 "metadata": {
  "kernelspec": {
   "display_name": "Python 3",
   "language": "python",
   "name": "python3"
  },
  "language_info": {
   "codemirror_mode": {
    "name": "ipython",
    "version": 3
   },
   "file_extension": ".py",
   "mimetype": "text/x-python",
   "name": "python",
   "nbconvert_exporter": "python",
   "pygments_lexer": "ipython3",
   "version": "3.5.4"
  }
 },
 "nbformat": 4,
 "nbformat_minor": 0
}
