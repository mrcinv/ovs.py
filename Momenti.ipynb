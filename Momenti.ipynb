{
 "cells": [
  {
   "cell_type": "markdown",
   "metadata": {},
   "source": [
    "# Momenti\n",
    "\n",
    "## Pričakovana vrednost\n",
    "[Pričakovana vrednost](https://sl.wikipedia.org/wiki/Pri%C4%8Dakovana_vrednost) (matematično upanje, povprečna vrednost) je za diskretno slučajno spremenljivko $X$ definirana kot [utežena vsota](https://sl.wikipedia.org/wiki/Ute%C5%BEna_funkcija)\n",
    "\n",
    "$$ E(X) = \\sum_{k=1}^n x_ip_i$$\n",
    "\n",
    "## Lastnosti $E(X)$\n",
    "Pričakovana vrednost je linearna\n",
    "$$E(X+Y) = E(X) + E(Y)$$\n",
    "$$E(aX) = aE(X)$$\n",
    "\n",
    "## Disperzija\n",
    "Disperzija (varianca) $D(X)$ je definirana kot *pričakovana vrednost kvadrata razlike med slučajno spremenljivko in njeno pričakovano vrednostjo*:\n",
    "$$ D(X) = E((X-E(X))^2)$$\n",
    "\n",
    "## Lastnosti\n",
    "Za disperzijo velja\n",
    "\n",
    "$$D(X) = E(X^2)-E(X)^2$$\n",
    "in\n",
    "$$D(a X) = a^2 D(X),$$\n",
    "za poljubno konstanto $a\\in\\mathbb{R}$.\n",
    "\n",
    "Če sta $X$ in $Y$ **neodvisni**, je disperzija *aditivna*\n",
    "$$D(X+Y) = D(X) + D(Y)$$"
   ]
  },
  {
   "cell_type": "markdown",
   "metadata": {},
   "source": [
    "# Naloga\n",
    "Za neodvisni slučajni spremenljivki \n",
    "$$X \\sim\\begin{pmatrix} 1 & 3 & 5\\\\ 0.1 & 0.3 & 0.5\n",
    "\\end{pmatrix}$$ in \n",
    "$$Y\\sim \\begin{pmatrix} 1 & 2 & 3 \\\\ 0.4 &0.1 &0.5\\end{pmatrix}$$\n",
    "določi $E$ in $D$ za naslednji slučajne spremenljivke\n",
    " - $X$\n",
    " - $Y$\n",
    " - $4X-2$\n",
    " - $-2X+3Y$"
   ]
  },
  {
   "cell_type": "code",
   "execution_count": null,
   "metadata": {},
   "outputs": [],
   "source": []
  }
 ],
 "metadata": {
  "kernelspec": {
   "display_name": "Python 3",
   "language": "python",
   "name": "python3"
  },
  "language_info": {
   "codemirror_mode": {
    "name": "ipython",
    "version": 3
   },
   "file_extension": ".py",
   "mimetype": "text/x-python",
   "name": "python",
   "nbconvert_exporter": "python",
   "pygments_lexer": "ipython3",
   "version": "3.6.3"
  }
 },
 "nbformat": 4,
 "nbformat_minor": 2
}
