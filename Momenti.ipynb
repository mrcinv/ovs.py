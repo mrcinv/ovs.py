{
 "cells": [
  {
   "cell_type": "markdown",
   "metadata": {},
   "source": [
    "# Momenti\n",
    "\n",
    "## Pričakovana vrednost\n",
    "[Pričakovana vrednost](https://sl.wikipedia.org/wiki/Pri%C4%8Dakovana_vrednost) (matematično upanje, povprečna vrednost) je za diskretno slučajno spremenljivko $X$ definirana kot [utežena vsota](https://sl.wikipedia.org/wiki/Ute%C5%BEna_funkcija)\n",
    "\n",
    "$$ E(X) = \\sum_{k=1}^n x_ip_i$$\n",
    "\n",
    "## Lastnosti $E(X)$\n",
    "Pričakovana vrednost je linearna\n",
    "$$E(X+Y) = E(X) + E(Y)$$\n",
    "$$E(aX) = aE(X)$$\n",
    "\n",
    "## Disperzija\n",
    "Disperzija (varianca) $D(X)$ je definirana kot *pričakovana vrednost kvadrata razlike med slučajno spremenljivko in njeno pričakovano vrednostjo*:\n",
    "$$ D(X) = E((X-E(X))^2)$$\n",
    "\n",
    "## Lastnosti\n",
    "Za disperzijo velja\n",
    "\n",
    "$$D(X) = E(X^2)-E(X)^2$$\n",
    "in\n",
    "$$D(a X) = a^2 D(X),$$\n",
    "za poljubno konstanto $a\\in\\mathbb{R}$.\n",
    "\n",
    "Če sta $X$ in $Y$ **neodvisni**, je disperzija *aditivna*\n",
    "$$D(X+Y) = D(X) + D(Y)$$"
   ]
  },
  {
   "cell_type": "markdown",
   "metadata": {},
   "source": [
    "# Naloga\n",
    "Za neodvisni slučajni spremenljivki \n",
    "$$X \\sim\\begin{pmatrix} 1 & 3 & 5\\\\ 0.1 & 0.3 & 0.6\n",
    "\\end{pmatrix}$$ in \n",
    "$$Y\\sim \\begin{pmatrix} 1 & 2 & 3 \\\\ 0.4 &0.1 &0.5\\end{pmatrix}$$\n",
    "določi $E$ in $D$ za naslednji slučajne spremenljivke\n",
    " - $X$\n",
    " - $Y$\n",
    " - $4X-2$\n",
    " - $-2X+3$"
   ]
  },
  {
   "cell_type": "code",
   "execution_count": 2,
   "metadata": {
    "collapsed": true
   },
   "outputs": [],
   "source": [
    "x = [1, 3, 5]\n",
    "px = [0.1, 0.3, 0.6]\n",
    "y = [1, 2, 3]\n",
    "py = [0.4, 0.1, 0.5]"
   ]
  },
  {
   "cell_type": "code",
   "execution_count": 4,
   "metadata": {},
   "outputs": [
    {
     "data": {
      "text/plain": [
       "4.0"
      ]
     },
     "execution_count": 4,
     "metadata": {},
     "output_type": "execute_result"
    }
   ],
   "source": [
    "Ex = sum(x[i]*px[i] for i in range(3))\n",
    "Ex"
   ]
  },
  {
   "cell_type": "code",
   "execution_count": 5,
   "metadata": {},
   "outputs": [
    {
     "data": {
      "text/plain": [
       "2.1"
      ]
     },
     "execution_count": 5,
     "metadata": {},
     "output_type": "execute_result"
    }
   ],
   "source": [
    "Ey = sum(y[i]*py[i] for i in range(3))\n",
    "Ey"
   ]
  },
  {
   "cell_type": "code",
   "execution_count": 7,
   "metadata": {},
   "outputs": [
    {
     "data": {
      "text/plain": [
       "[2, 10, 18]"
      ]
     },
     "execution_count": 7,
     "metadata": {},
     "output_type": "execute_result"
    }
   ],
   "source": [
    "x4_2 = [4*x[i]-2 for i in range(3)]\n",
    "x4_2"
   ]
  },
  {
   "cell_type": "markdown",
   "metadata": {},
   "source": [
    "$E(4X-2)$"
   ]
  },
  {
   "cell_type": "code",
   "execution_count": 9,
   "metadata": {},
   "outputs": [
    {
     "data": {
      "text/plain": [
       "14.0"
      ]
     },
     "execution_count": 9,
     "metadata": {},
     "output_type": "execute_result"
    }
   ],
   "source": [
    "Ex4_2 = sum((4*x[i]-2)*px[i] for i in range(3))\n",
    "Ex4_2"
   ]
  },
  {
   "cell_type": "code",
   "execution_count": 14,
   "metadata": {},
   "outputs": [
    {
     "data": {
      "text/plain": [
       "[[1, -3, -7], [4, 0, -4], [7, 3, -1]]"
      ]
     },
     "execution_count": 14,
     "metadata": {},
     "output_type": "execute_result"
    }
   ],
   "source": [
    "[[-2*x[i] + 3*y[j] for i in range(3)] for j in range(3)]"
   ]
  },
  {
   "cell_type": "code",
   "execution_count": 15,
   "metadata": {},
   "outputs": [
    {
     "data": {
      "text/plain": [
       "[1, 4, 7, -3, 0, 3, -7, -4, -1]"
      ]
     },
     "execution_count": 15,
     "metadata": {},
     "output_type": "execute_result"
    }
   ],
   "source": [
    "[-2*x[i] + 3*y[j] for i in range(3) for j in range(3)]"
   ]
  },
  {
   "cell_type": "code",
   "execution_count": 12,
   "metadata": {},
   "outputs": [
    {
     "data": {
      "text/plain": [
       "[[0.04000000000000001, 0.12, 0.24],\n",
       " [0.010000000000000002, 0.03, 0.06],\n",
       " [0.05, 0.15, 0.3]]"
      ]
     },
     "execution_count": 12,
     "metadata": {},
     "output_type": "execute_result"
    }
   ],
   "source": [
    "[[px[i]*py[j] for i in range(3)] for j in range(3)]"
   ]
  },
  {
   "cell_type": "code",
   "execution_count": 20,
   "metadata": {},
   "outputs": [],
   "source": [
    "Ex2_3y = sum((-2*x[i]+3*y[j])*px[i]*py[j] for i in range(3) for j in range(3))"
   ]
  },
  {
   "cell_type": "markdown",
   "metadata": {},
   "source": [
    "# Disperzija\n",
    "$D(X) = E(X^2) - E(X)^2$"
   ]
  },
  {
   "cell_type": "code",
   "execution_count": 16,
   "metadata": {},
   "outputs": [
    {
     "data": {
      "text/plain": [
       "17.8"
      ]
     },
     "execution_count": 16,
     "metadata": {},
     "output_type": "execute_result"
    }
   ],
   "source": [
    "Ex2 = sum(x[i]**2*px[i] for i in range(3))\n",
    "Ex2"
   ]
  },
  {
   "cell_type": "code",
   "execution_count": 17,
   "metadata": {},
   "outputs": [
    {
     "data": {
      "text/plain": [
       "1.8000000000000007"
      ]
     },
     "execution_count": 17,
     "metadata": {},
     "output_type": "execute_result"
    }
   ],
   "source": [
    "DX = Ex2 -Ex**2\n",
    "DX"
   ]
  },
  {
   "cell_type": "code",
   "execution_count": 19,
   "metadata": {},
   "outputs": [
    {
     "data": {
      "text/plain": [
       "0.89"
      ]
     },
     "execution_count": 19,
     "metadata": {},
     "output_type": "execute_result"
    }
   ],
   "source": [
    "DY = sum((y[i]-Ey)**2*py[i] for i in range(3))\n",
    "DY"
   ]
  },
  {
   "cell_type": "code",
   "execution_count": 21,
   "metadata": {
    "collapsed": true
   },
   "outputs": [],
   "source": [
    "DX2_3Y = sum((-2*x[i]+3*y[j]-Ex2_3y)**2*px[i]*py[j] for i in range(3) for j in range(3))"
   ]
  },
  {
   "cell_type": "code",
   "execution_count": 22,
   "metadata": {},
   "outputs": [
    {
     "data": {
      "text/plain": [
       "15.21"
      ]
     },
     "execution_count": 22,
     "metadata": {},
     "output_type": "execute_result"
    }
   ],
   "source": [
    "DX2_3Y"
   ]
  },
  {
   "cell_type": "code",
   "execution_count": 23,
   "metadata": {},
   "outputs": [
    {
     "data": {
      "text/plain": [
       "15.210000000000003"
      ]
     },
     "execution_count": 23,
     "metadata": {},
     "output_type": "execute_result"
    }
   ],
   "source": [
    "4*DX+9*DY"
   ]
  },
  {
   "cell_type": "code",
   "execution_count": 26,
   "metadata": {},
   "outputs": [
    {
     "data": {
      "text/plain": [
       "1.875"
      ]
     },
     "execution_count": 26,
     "metadata": {},
     "output_type": "execute_result"
    }
   ],
   "source": [
    "8*(1-(7/8)**2)"
   ]
  },
  {
   "cell_type": "code",
   "execution_count": 27,
   "metadata": {},
   "outputs": [
    {
     "data": {
      "text/plain": [
       "1.875"
      ]
     },
     "execution_count": 27,
     "metadata": {},
     "output_type": "execute_result"
    }
   ],
   "source": [
    "15/8"
   ]
  },
  {
   "cell_type": "code",
   "execution_count": null,
   "metadata": {
    "collapsed": true
   },
   "outputs": [],
   "source": []
  }
 ],
 "metadata": {
  "kernelspec": {
   "display_name": "Python 3",
   "language": "python",
   "name": "python3"
  },
  "language_info": {
   "codemirror_mode": {
    "name": "ipython",
    "version": 3
   },
   "file_extension": ".py",
   "mimetype": "text/x-python",
   "name": "python",
   "nbconvert_exporter": "python",
   "pygments_lexer": "ipython3",
   "version": "3.6.3"
  }
 },
 "nbformat": 4,
 "nbformat_minor": 2
}
