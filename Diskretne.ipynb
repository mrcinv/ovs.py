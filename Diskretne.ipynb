{
 "cells": [
  {
   "cell_type": "markdown",
   "metadata": {},
   "source": [
    "### Met dveh igralnih kock\n",
    "Hkrati vržemo 2 igralni kocki."
   ]
  },
  {
   "cell_type": "code",
   "execution_count": 1,
   "metadata": {},
   "outputs": [],
   "source": [
    "from scipy.stats import rv_discrete\n",
    "xs = range(1, 6+1)\n",
    "ps = [1/6]*6\n",
    "X = rv_discrete(values=(xs, ps))\n",
    "Y = rv_discrete(values=(xs, ps))"
   ]
  },
  {
   "cell_type": "markdown",
   "metadata": {},
   "source": [
    "Kolikšna je verjetnost dogodka A = na prvi kocki padejo 4 pike?"
   ]
  },
  {
   "cell_type": "code",
   "execution_count": 30,
   "metadata": {},
   "outputs": [
    {
     "name": "stdout",
     "output_type": "stream",
     "text": [
      "P(A) = 0.16666666666666666\n"
     ]
    }
   ],
   "source": [
    "print(\"P(A) = {}\".format(X.pmf(4)))"
   ]
  },
  {
   "cell_type": "markdown",
   "metadata": {},
   "source": [
    "Kolikšna je verjetnost dogodka B = vsota pik je enaka 6?"
   ]
  },
  {
   "cell_type": "code",
   "execution_count": 2,
   "metadata": {},
   "outputs": [
    {
     "name": "stdout",
     "output_type": "stream",
     "text": [
      "P(B) = 0.1388888888888889\n"
     ]
    }
   ],
   "source": [
    "from itertools import product\n",
    "def vsota(X, Y):\n",
    "    '''Vsota dveh neodvisnih spremenljivk X in Y'''\n",
    "    states = dict()\n",
    "    for x, y in product(X.xk, Y.xk):\n",
    "        states[x+y] = states.get(x+y, 0) + X.pmf(x)*Y.pmf(y)\n",
    "    xs = list(states.keys())\n",
    "    ps = [states[x] for x in xs]\n",
    "    return rv_discrete(values=(xs, ps))\n",
    "\n",
    "Z = vsota(X, Y)\n",
    "print(\"P(B) = {}\".format(Z.pmf(6)))"
   ]
  },
  {
   "cell_type": "markdown",
   "metadata": {},
   "source": [
    "Kolikšna je verjetnost dogodka C = vsota pik je manjša od 4?"
   ]
  },
  {
   "cell_type": "code",
   "execution_count": 32,
   "metadata": {},
   "outputs": [
    {
     "name": "stdout",
     "output_type": "stream",
     "text": [
      "P(C) = 0.08333333333333333\n"
     ]
    }
   ],
   "source": [
    "print(\"P(C) = {}\".format(Z.cdf(3)))"
   ]
  },
  {
   "cell_type": "markdown",
   "metadata": {},
   "source": [
    "### Otroci\n",
    "Zakonca načrtujeta štiri otroke. Kaj je verjetneje: da bosta oba spola enako zastopana\n",
    "(dogodek A) ali da bodo trije enega, eden pa nasprotnega spola (dogodek B)?\n",
    "Vse razporeditve spolov so enako verjetne."
   ]
  },
  {
   "cell_type": "code",
   "execution_count": 3,
   "metadata": {},
   "outputs": [
    {
     "data": {
      "text/plain": [
       "[('M', 'M', 'M', 'M'),\n",
       " ('M', 'M', 'M', 'Z'),\n",
       " ('M', 'M', 'Z', 'M'),\n",
       " ('M', 'M', 'Z', 'Z'),\n",
       " ('M', 'Z', 'M', 'M'),\n",
       " ('M', 'Z', 'M', 'Z'),\n",
       " ('M', 'Z', 'Z', 'M'),\n",
       " ('M', 'Z', 'Z', 'Z'),\n",
       " ('Z', 'M', 'M', 'M'),\n",
       " ('Z', 'M', 'M', 'Z'),\n",
       " ('Z', 'M', 'Z', 'M'),\n",
       " ('Z', 'M', 'Z', 'Z'),\n",
       " ('Z', 'Z', 'M', 'M'),\n",
       " ('Z', 'Z', 'M', 'Z'),\n",
       " ('Z', 'Z', 'Z', 'M'),\n",
       " ('Z', 'Z', 'Z', 'Z')]"
      ]
     },
     "execution_count": 3,
     "metadata": {},
     "output_type": "execute_result"
    }
   ],
   "source": [
    "outcomes = list(product('MZ', repeat=4))\n",
    "outcomes"
   ]
  },
  {
   "cell_type": "code",
   "execution_count": 4,
   "metadata": {},
   "outputs": [
    {
     "name": "stdout",
     "output_type": "stream",
     "text": [
      "P(A) = 0.375\n",
      "P(B) = 0.5\n"
     ]
    }
   ],
   "source": [
    "a = 0\n",
    "b = 0\n",
    "for o in outcomes:\n",
    "    if o.count('M')==o.count('Z'):\n",
    "        a += 1\n",
    "    if o.count('M') in [1, 3]:\n",
    "        b += 1\n",
    "A = a/len(outcomes)\n",
    "B = b/len(outcomes)\n",
    "print(\"P(A) = {}\".format(A))\n",
    "print(\"P(B) = {}\".format(B))\n"
   ]
  },
  {
   "cell_type": "markdown",
   "metadata": {},
   "source": [
    "### Binomska porazdelitev\n",
    "V razredu je 30 učencev. Delež levičarjev v populaciji je približno 1/8."
   ]
  },
  {
   "cell_type": "code",
   "execution_count": 8,
   "metadata": {},
   "outputs": [],
   "source": [
    "from scipy.stats import binom\n",
    "X = binom(p = 1/8, n = 30)"
   ]
  },
  {
   "cell_type": "markdown",
   "metadata": {},
   "source": [
    "Kolikšna je verjetnost, da bo v razredu natanko 3 levičarji?"
   ]
  },
  {
   "cell_type": "code",
   "execution_count": 9,
   "metadata": {},
   "outputs": [
    {
     "data": {
      "text/plain": [
       "0.21551301575959997"
      ]
     },
     "execution_count": 9,
     "metadata": {},
     "output_type": "execute_result"
    }
   ],
   "source": [
    "X.pmf(3)"
   ]
  },
  {
   "cell_type": "markdown",
   "metadata": {},
   "source": [
    "Kolikšna je verjetnost, da bo v razredu več kot petina učencev levičarjev?"
   ]
  },
  {
   "cell_type": "code",
   "execution_count": 10,
   "metadata": {},
   "outputs": [
    {
     "data": {
      "text/plain": [
       "6.0"
      ]
     },
     "execution_count": 10,
     "metadata": {},
     "output_type": "execute_result"
    }
   ],
   "source": [
    "30/5"
   ]
  },
  {
   "cell_type": "code",
   "execution_count": 11,
   "metadata": {},
   "outputs": [
    {
     "data": {
      "text/plain": [
       "0.07252921777144139"
      ]
     },
     "execution_count": 11,
     "metadata": {},
     "output_type": "execute_result"
    }
   ],
   "source": [
    "1 - X.cdf(6)"
   ]
  },
  {
   "cell_type": "markdown",
   "metadata": {},
   "source": [
    "Na šoli je 900 učencev. Kolikšna je verjetnost, da je več kot petina levičarjev?"
   ]
  },
  {
   "cell_type": "code",
   "execution_count": 12,
   "metadata": {},
   "outputs": [
    {
     "data": {
      "text/plain": [
       "8.159095621351753e-11"
      ]
     },
     "execution_count": 12,
     "metadata": {},
     "output_type": "execute_result"
    }
   ],
   "source": [
    "Y = binom(p = 1/8, n = 900)\n",
    "1 - Y.cdf(900/5)"
   ]
  },
  {
   "cell_type": "markdown",
   "metadata": {},
   "source": [
    "### Porazdelitev, simbolično računanje\n",
    "Za diskretno slučajno spremenljivko X z zalogo vrednosti $\\{1, 2, 3, 4\\}$ velja $$P(X=k) = C · k^2.$$\n",
    "Določite konstanto $C$.\n"
   ]
  },
  {
   "cell_type": "code",
   "execution_count": 27,
   "metadata": {},
   "outputs": [
    {
     "data": {
      "text/plain": [
       "0.03333333333333333"
      ]
     },
     "execution_count": 27,
     "metadata": {},
     "output_type": "execute_result"
    }
   ],
   "source": [
    "C = 1/sum([x**2 for x in [1,2,3,4]])\n",
    "C"
   ]
  },
  {
   "cell_type": "code",
   "execution_count": 15,
   "metadata": {},
   "outputs": [
    {
     "data": {
      "text/plain": [
       "[1/30]"
      ]
     },
     "execution_count": 15,
     "metadata": {},
     "output_type": "execute_result"
    }
   ],
   "source": [
    "from sympy.solvers import solve\n",
    "from sympy import Symbol, Eq\n",
    "C = Symbol('C')\n",
    "D = Symbol('D')\n",
    "enacba = Eq(sum(D*(x**2) for x in [1,2,3,4]),1)\n",
    "solve(enacba, D)"
   ]
  },
  {
   "cell_type": "code",
   "execution_count": 9,
   "metadata": {},
   "outputs": [
    {
     "data": {
      "text/plain": [
       "[1]"
      ]
     },
     "execution_count": 9,
     "metadata": {},
     "output_type": "execute_result"
    }
   ],
   "source": [
    "solve(3*C-3)"
   ]
  },
  {
   "cell_type": "code",
   "execution_count": null,
   "metadata": {},
   "outputs": [],
   "source": []
  }
 ],
 "metadata": {
  "kernelspec": {
   "display_name": "Python 3",
   "language": "python",
   "name": "python3"
  },
  "language_info": {
   "codemirror_mode": {
    "name": "ipython",
    "version": 3
   },
   "file_extension": ".py",
   "mimetype": "text/x-python",
   "name": "python",
   "nbconvert_exporter": "python",
   "pygments_lexer": "ipython3",
   "version": "3.6.5"
  }
 },
 "nbformat": 4,
 "nbformat_minor": 2
}
