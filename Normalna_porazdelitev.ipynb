{
 "cells": [
  {
   "cell_type": "markdown",
   "metadata": {},
   "source": [
    "# Normalna porazdelitev\n",
    "\n",
    "[Normalna porazdelitev](https://sl.wikipedia.org/wiki/Normalna_porazdelitev): $X\\sim N(\\mu, \\sigma)$\n",
    " - $\\mu$ je enak pričakovani vrednosti $E(X)$\n",
    " - $\\sigma$ je enak standardnemu odklonu $ \\sqrt{D(X)}$\n",
    "\n",
    "## Standardizacija\n",
    "\n",
    "Porazdelitev $N(0,1)$ imenujemo **standardna normalna porazdelitev**. Porazdelitev je zvezna, zato je določena z eno od dveh funkcij\n",
    "  - **[gostota verjetnosti](https://sl.wikipedia.org/wiki/Gostota_verjetnosti)**\n",
    "   $$ \\frac {1}{\\sqrt{2\\pi}}e^{-\\frac{x^2}{2}}$$\n",
    "  - **[kumulativna porazdelitvena funkcija](https://sl.wikipedia.org/wiki/Zbirna_funkcija_verjetnosti)**\n",
    "  $$ P(X\\le x) = \\Phi(x) = \\frac{1}{2\\pi}\\int_{-\\infty}^x e^{-\\frac{t^2}{2}}dt $$\n",
    "  \n",
    "Kumulativna porazdelitvena funkcija $\\Phi(x)$ ni elementarna in jo računamo s [tabelo](Standardna_normalna_porazdelitev.pdf) ali z uporabo knjižnice `scipy.stats`.\n",
    "\n",
    "Vsako normalno porazdeljeno slučajno spremenljivko $X(\\mu, \\sigma)$ lahko **standardiziramo**\n",
    "\n",
    " $$ Z = \\frac{X-\\mu}{\\sigma}\\sim N(0,1),$$\n",
    " \n",
    " in dobimo slučajno spremenljivko $Z\\sim N(0,1)$, ki je porazdeljena standardno normalno."
   ]
  },
  {
   "cell_type": "markdown",
   "metadata": {},
   "source": [
    "## Naloga\n",
    "Za slučajno spremenljivko $X\\sim N(\\mu, \\sigma)$ izračuaj\n",
    " 1. $P(X<3/2)$, če je $\\mu=0$ in $\\sigma=1$\n",
    " 2. $P(X>0)$, če je $\\mu=-9$ in $\\sigma=5$\n",
    " 3. $P(0<X<3)$, če je $\\mu=2$ in $\\sigma=2$."
   ]
  },
  {
   "cell_type": "markdown",
   "metadata": {},
   "source": [
    "$P(X<3/2) = P(X\\le 3/2) = \\Phi(3/2)$ "
   ]
  },
  {
   "cell_type": "code",
   "execution_count": 2,
   "metadata": {},
   "outputs": [],
   "source": [
    "from scipy.stats import norm"
   ]
  },
  {
   "cell_type": "code",
   "execution_count": 3,
   "metadata": {},
   "outputs": [
    {
     "data": {
      "text/plain": [
       "0.93319279873114191"
      ]
     },
     "execution_count": 3,
     "metadata": {},
     "output_type": "execute_result"
    }
   ],
   "source": [
    "norm.cdf(3/2)"
   ]
  },
  {
   "cell_type": "code",
   "execution_count": 4,
   "metadata": {},
   "outputs": [
    {
     "data": {
      "text/plain": [
       "1.5"
      ]
     },
     "execution_count": 4,
     "metadata": {},
     "output_type": "execute_result"
    }
   ],
   "source": [
    "3/2"
   ]
  },
  {
   "cell_type": "markdown",
   "metadata": {},
   "source": [
    "$Z = (X + 9)/5$\n",
    "\n",
    "$P(X>0) = P(Z>(0+9)/5) = P(Z>9/5) = 1 - P(Z\\le 9/5)$"
   ]
  },
  {
   "cell_type": "code",
   "execution_count": 6,
   "metadata": {},
   "outputs": [
    {
     "data": {
      "text/plain": [
       "0.035930319112925768"
      ]
     },
     "execution_count": 6,
     "metadata": {},
     "output_type": "execute_result"
    }
   ],
   "source": [
    "1-norm.cdf(9/5)"
   ]
  },
  {
   "cell_type": "code",
   "execution_count": 7,
   "metadata": {},
   "outputs": [
    {
     "data": {
      "text/plain": [
       "0.03590000000000004"
      ]
     },
     "execution_count": 7,
     "metadata": {},
     "output_type": "execute_result"
    }
   ],
   "source": [
    "1- 0.9641"
   ]
  },
  {
   "cell_type": "markdown",
   "metadata": {},
   "source": [
    "$X\\sim N(2,2)$\n",
    "\n",
    "$P(0<X<3) = P(-1<Z<1/2) = \\Phi(1/2) - \\Phi(-1)$"
   ]
  },
  {
   "cell_type": "code",
   "execution_count": 8,
   "metadata": {},
   "outputs": [
    {
     "data": {
      "text/plain": [
       "0.53280720734255604"
      ]
     },
     "execution_count": 8,
     "metadata": {},
     "output_type": "execute_result"
    }
   ],
   "source": [
    "norm.cdf(0.5) - norm.cdf(-1)"
   ]
  },
  {
   "cell_type": "code",
   "execution_count": 11,
   "metadata": {},
   "outputs": [
    {
     "data": {
      "text/plain": [
       "0.5328"
      ]
     },
     "execution_count": 11,
     "metadata": {},
     "output_type": "execute_result"
    }
   ],
   "source": [
    "0.6915 - (1 - 0.8413)"
   ]
  },
  {
   "cell_type": "code",
   "execution_count": null,
   "metadata": {
    "collapsed": true
   },
   "outputs": [],
   "source": []
  }
 ],
 "metadata": {
  "kernelspec": {
   "display_name": "Python 3",
   "language": "python",
   "name": "python3"
  },
  "language_info": {
   "codemirror_mode": {
    "name": "ipython",
    "version": 3
   },
   "file_extension": ".py",
   "mimetype": "text/x-python",
   "name": "python",
   "nbconvert_exporter": "python",
   "pygments_lexer": "ipython3",
   "version": "3.6.3"
  }
 },
 "nbformat": 4,
 "nbformat_minor": 2
}
