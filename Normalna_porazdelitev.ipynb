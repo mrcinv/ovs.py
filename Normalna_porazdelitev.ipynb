{
 "cells": [
  {
   "cell_type": "markdown",
   "metadata": {},
   "source": [
    "# Normalna porazdelitev\n",
    "\n",
    "[Normalna porazdelitev](https://sl.wikipedia.org/wiki/Normalna_porazdelitev): $X\\sim N(\\mu, \\sigma)$\n",
    " - $\\mu$ je enak pričakovani vrednosti $E(X)$\n",
    " - $\\sigma$ je enak standardnemu odklonu $ \\sqrt{D(X)}$\n",
    "\n",
    "## Standardizacija\n",
    "\n",
    "Porazdelitev $N(0,1)$ imenujemo **standardna normalna porazdelitev**. Porazdelitev je zvezna, zato je določena z eno od dveh funkcij\n",
    "  - **[gostota verjetnosti](https://sl.wikipedia.org/wiki/Gostota_verjetnosti)**\n",
    "   $$ \\frac {1}{\\sqrt{2\\pi}}e^{-\\frac{x^2}{2}}$$\n",
    "  - **[kumulativna porazdelitvena funkcija](https://sl.wikipedia.org/wiki/Zbirna_funkcija_verjetnosti)**\n",
    "  $$ P(X\\le x) = \\Phi(x) = \\frac{1}{2\\pi}\\int_{-\\infty}^x e^{-\\frac{t^2}{2}}dt $$\n",
    "  \n",
    "Kumulativna porazdelitvena funkcija $\\Phi(x)$ ni elementarna in jo računamo s [tabelo](Standardna_normalna_porazdelitev.pdf) ali z uporabo knjižnice `scipy.stats`.\n",
    "\n",
    "Vsako normalno porazdeljeno slučajno spremenljivko $X(\\mu, \\sigma)$ lahko **standardiziramo**\n",
    "\n",
    " $$ Z = \\frac{X-\\mu}{\\sigma}\\sim N(0,1),$$\n",
    " \n",
    " in dobimo slučajno spremenljivko $Z\\sim N(0,1)$, ki je porazdeljena standardno normalno."
   ]
  },
  {
   "cell_type": "code",
   "execution_count": 2,
   "metadata": {
    "collapsed": false
   },
   "outputs": [
    {
     "name": "stdout",
     "output_type": "stream",
     "text": [
      "P(-1 < Z < 1) = 0.6826894921370859\n"
     ]
    }
   ],
   "source": [
    "from scipy.stats import norm\n",
    "print(\"P(-1 < Z < 1) = {}\".format(norm.cdf(1)-norm.cdf(-1)))"
   ]
  },
  {
   "cell_type": "markdown",
   "metadata": {},
   "source": [
    "*Opomba: Če ni na voljo knjižnice `scipy`, lahko $\\Phi$ definiramo s funkcijo napake `math.erf` iz standardne matematične knjižnice.*"
   ]
  },
  {
   "cell_type": "code",
   "execution_count": 1,
   "metadata": {
    "collapsed": true
   },
   "outputs": [],
   "source": [
    "from math import erf\n",
    "def norm_cdf(x):\n",
    "    \"kumulativna porazdelitvena funkcija za N(0,1)\"\n",
    "    return 0.5 + 0.5*erf(x/2**0.5)"
   ]
  },
  {
   "cell_type": "markdown",
   "metadata": {},
   "source": [
    "## Naloga\n",
    "Za slučajno spremenljivko $X\\sim N(\\mu, \\sigma)$ izračuaj\n",
    " 1. $P(X<3/2)$, če je $\\mu=0$ in $\\sigma=1$\n",
    " 2. $P(X>0)$, če je $\\mu=-9$ in $\\sigma=5$\n",
    " 3. $P(0<X<3)$, če je $\\mu=2$ in $\\sigma=2$."
   ]
  },
  {
   "cell_type": "markdown",
   "metadata": {},
   "source": [
    "$P(X<3/2) = P(X\\le 3/2) = \\Phi(3/2)$ "
   ]
  },
  {
   "cell_type": "code",
   "execution_count": 6,
   "metadata": {
    "collapsed": true
   },
   "outputs": [],
   "source": [
    "from math import erf\n",
    "def norm_cdf(x):\n",
    "    \"kumulativna porazdelitvena funkcija za N(0,1)\"\n",
    "    return 0.5 + 0.5*erf(x/2**0.5)"
   ]
  },
  {
   "cell_type": "code",
   "execution_count": 5,
   "metadata": {
    "collapsed": false
   },
   "outputs": [
    {
     "data": {
      "text/plain": [
       "0.9331927987311419"
      ]
     },
     "execution_count": 5,
     "metadata": {},
     "output_type": "execute_result"
    }
   ],
   "source": [
    "norm_cdf(3/2)"
   ]
  },
  {
   "cell_type": "code",
   "execution_count": 2,
   "metadata": {
    "collapsed": false
   },
   "outputs": [
    {
     "data": {
      "text/plain": [
       "0.93319279873114191"
      ]
     },
     "execution_count": 2,
     "metadata": {},
     "output_type": "execute_result"
    }
   ],
   "source": [
    "# kumulativna porazdelitvena funkcija za N(0,1)\n",
    "norm.cdf(3/2)"
   ]
  },
  {
   "cell_type": "code",
   "execution_count": 4,
   "metadata": {
    "collapsed": false
   },
   "outputs": [
    {
     "data": {
      "text/plain": [
       "1.5"
      ]
     },
     "execution_count": 4,
     "metadata": {},
     "output_type": "execute_result"
    }
   ],
   "source": [
    "3/2"
   ]
  },
  {
   "cell_type": "markdown",
   "metadata": {},
   "source": [
    "$Z = (X + 9)/5$\n",
    "\n",
    "$P(X>0) = P(Z>(0+9)/5) = P(Z>9/5) = 1 - P(Z\\le 9/5)$"
   ]
  },
  {
   "cell_type": "code",
   "execution_count": 6,
   "metadata": {
    "collapsed": false
   },
   "outputs": [
    {
     "data": {
      "text/plain": [
       "0.035930319112925768"
      ]
     },
     "execution_count": 6,
     "metadata": {},
     "output_type": "execute_result"
    }
   ],
   "source": [
    "1-norm.cdf(9/5)"
   ]
  },
  {
   "cell_type": "code",
   "execution_count": 7,
   "metadata": {
    "collapsed": false
   },
   "outputs": [
    {
     "data": {
      "text/plain": [
       "0.03590000000000004"
      ]
     },
     "execution_count": 7,
     "metadata": {},
     "output_type": "execute_result"
    }
   ],
   "source": [
    "1- 0.9641"
   ]
  },
  {
   "cell_type": "markdown",
   "metadata": {},
   "source": [
    "$X\\sim N(2,2)$\n",
    "\n",
    "$P(0<X<3) = P(-1<Z<1/2) = \\Phi(1/2) - \\Phi(-1)$"
   ]
  },
  {
   "cell_type": "code",
   "execution_count": 8,
   "metadata": {
    "collapsed": false
   },
   "outputs": [
    {
     "data": {
      "text/plain": [
       "0.53280720734255604"
      ]
     },
     "execution_count": 8,
     "metadata": {},
     "output_type": "execute_result"
    }
   ],
   "source": [
    "norm.cdf(0.5) - norm.cdf(-1)"
   ]
  },
  {
   "cell_type": "code",
   "execution_count": 11,
   "metadata": {
    "collapsed": false
   },
   "outputs": [
    {
     "data": {
      "text/plain": [
       "0.5328"
      ]
     },
     "execution_count": 11,
     "metadata": {},
     "output_type": "execute_result"
    }
   ],
   "source": [
    "0.6915 - (1 - 0.8413)"
   ]
  },
  {
   "cell_type": "markdown",
   "metadata": {
    "collapsed": true
   },
   "source": [
    "## Naloga\n",
    "Telesna višina žensk je $X\\sim N(165, 7)$, telesna višina moških je $Y\\sim N(178,9)$\n",
    " - Delež moških nad 190\n",
    " - Delež moških pod povprečjem žensk in žensk nad povprečjem moških\n",
    " - razmerje med deležem moških nad 185 in žensk nad 185"
   ]
  },
  {
   "cell_type": "code",
   "execution_count": 5,
   "metadata": {
    "collapsed": true
   },
   "outputs": [],
   "source": [
    "from scipy.stats import norm"
   ]
  },
  {
   "cell_type": "code",
   "execution_count": 6,
   "metadata": {
    "collapsed": false
   },
   "outputs": [
    {
     "data": {
      "text/plain": [
       "0.091211219725867876"
      ]
     },
     "execution_count": 6,
     "metadata": {},
     "output_type": "execute_result"
    }
   ],
   "source": [
    "# verjetnost P(Y>190) = 1 - P(Z>(190-178)/9) = 1 - Phi(12/9)\n",
    "1 - norm.cdf((190-178)/9)"
   ]
  },
  {
   "cell_type": "markdown",
   "metadata": {},
   "source": [
    "Delež moških pod povprečno višino žensk\n",
    "$$P(Y<165) = P(Z_Y <(165-178)/9) = \\Phi(-13/9)$$"
   ]
  },
  {
   "cell_type": "code",
   "execution_count": 9,
   "metadata": {
    "collapsed": false
   },
   "outputs": [
    {
     "name": "stdout",
     "output_type": "stream",
     "text": [
      "Delež moških, ki so manjši od povprečne ženske je 0.07430699822760586\n"
     ]
    }
   ],
   "source": [
    "print(\"Delež moških, ki so manjši od povprečne ženske je {}\".format(norm.cdf(-13/9)))"
   ]
  },
  {
   "cell_type": "markdown",
   "metadata": {},
   "source": [
    "Delež žensk, ki so večje od povprečnega moškega\n",
    "$$ P(X>178) = 1 - P(X\\le 178) = 1 - \\Phi((178 - 165)/7) $$"
   ]
  },
  {
   "cell_type": "code",
   "execution_count": 12,
   "metadata": {
    "collapsed": false
   },
   "outputs": [
    {
     "name": "stdout",
     "output_type": "stream",
     "text": [
      "Delež žensk, ki so večje od povprečnega moškega je 0.0316454161166726\n"
     ]
    }
   ],
   "source": [
    "print(\"Delež žensk, ki so večje od povprečnega moškega je {}\".format(1-norm.cdf(13/7)))"
   ]
  },
  {
   "cell_type": "markdown",
   "metadata": {},
   "source": [
    "Razmerje med deležem moških, ki so večji od 185 in deležem žensk, ki so večje od 185 je enako razmerju verjetnosti\n",
    "$$P(Y>185)/P(X>185)$$\n",
    "$$P(Y>185) = 1 - P(Y\\le 185) = 1 - \\Phi((185 -178)/9)$$"
   ]
  },
  {
   "cell_type": "code",
   "execution_count": 18,
   "metadata": {
    "collapsed": false
   },
   "outputs": [
    {
     "data": {
      "text/plain": [
       "102.15841144535989"
      ]
     },
     "execution_count": 18,
     "metadata": {},
     "output_type": "execute_result"
    }
   ],
   "source": [
    "Px = 1 - norm.cdf((185 - 178)/9)\n",
    "Py = 1 - norm.cdf((185 - 165)/7)\n",
    "Px/Py"
   ]
  },
  {
   "cell_type": "code",
   "execution_count": 19,
   "metadata": {
    "collapsed": false
   },
   "outputs": [
    {
     "data": {
      "text/plain": [
       "70"
      ]
     },
     "execution_count": 19,
     "metadata": {},
     "output_type": "execute_result"
    }
   ],
   "source": [
    "(1+4+4+9+16+36)"
   ]
  },
  {
   "cell_type": "code",
   "execution_count": 6,
   "metadata": {
    "collapsed": true
   },
   "outputs": [],
   "source": [
    "from math import erf\n",
    "def norm_cdf(x):\n",
    "    \"kumulativna porazdelitvena funkcija za N(0,1)\"\n",
    "    return 0.5 + 0.5*erf(x/2**0.5)"
   ]
  },
  {
   "cell_type": "markdown",
   "metadata": {},
   "source": [
    "Standardizacija za $X$ je dana s formulo\n",
    "$$Z_X = \\frac{X-165}{7}$$\n",
    "Standardizacija za $Y$ pa s formulo\n",
    "$$Z_Y = \\frac{Y-178}{9}$$\n"
   ]
  },
  {
   "cell_type": "code",
   "execution_count": 7,
   "metadata": {
    "collapsed": true
   },
   "outputs": [],
   "source": [
    "# standardizacija\n",
    "Zz = lambda x: (x - 165)/7\n",
    "Zm = lambda y: (y - 178)/9"
   ]
  },
  {
   "cell_type": "markdown",
   "metadata": {},
   "source": [
    "$P(Y>190) = P(Z> (190 - 178)/9)= 1- \\Phi(12/9)$"
   ]
  },
  {
   "cell_type": "code",
   "execution_count": 17,
   "metadata": {
    "collapsed": false
   },
   "outputs": [
    {
     "name": "stdout",
     "output_type": "stream",
     "text": [
      "Delež moških nad 190 je enak 0.09121121972586788\n"
     ]
    }
   ],
   "source": [
    "Pa = 1 - norm_cdf((190-178)/9)\n",
    "print(\"Delež moških nad 190 je enak {}\".format(Pa))"
   ]
  },
  {
   "cell_type": "markdown",
   "metadata": {},
   "source": [
    "$P(Y<165)=P(Z_m < (165 - 178)/9)$"
   ]
  },
  {
   "cell_type": "code",
   "execution_count": 14,
   "metadata": {
    "collapsed": false
   },
   "outputs": [
    {
     "name": "stdout",
     "output_type": "stream",
     "text": [
      "standardizirana vrednost 165cm je -1.4444444444444444\n",
      "delež moških manjših od povprečne ženske je 0.07430699822760606\n"
     ]
    }
   ],
   "source": [
    "Pbm = norm_cdf(Zm(165))\n",
    "print(\"standardizirana vrednost 165cm je {}\".format(Zm(165)))\n",
    "print(\"delež moških manjših od povprečne ženske je {}\".format(Pbm))"
   ]
  }
 ],
 "metadata": {
  "anaconda-cloud": {},
  "kernelspec": {
   "display_name": "Python 3",
   "language": "python",
   "name": "python3"
  },
  "language_info": {
   "codemirror_mode": {
    "name": "ipython",
    "version": 3
   },
   "file_extension": ".py",
   "mimetype": "text/x-python",
   "name": "python",
   "nbconvert_exporter": "python",
   "pygments_lexer": "ipython3",
   "version": "3.5.4"
  }
 },
 "nbformat": 4,
 "nbformat_minor": 2
}
