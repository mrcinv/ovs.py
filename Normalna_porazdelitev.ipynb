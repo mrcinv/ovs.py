{
 "cells": [
  {
   "cell_type": "markdown",
   "metadata": {},
   "source": [
    "# Normalna porazdelitev\n",
    "\n",
    "[Normalna porazdelitev](https://sl.wikipedia.org/wiki/Normalna_porazdelitev): $X\\sim N(\\mu, \\sigma)$\n",
    " - $\\mu$ je enak pričakovani vrednosti $E(X)$\n",
    " - $\\sigma$ je enak standardnemu odklonu $ \\sqrt{D(X)}$\n",
    "\n",
    "## Standardizacija\n",
    "\n",
    "Porazdelitev $N(0,1)$ imenujemo **standardna normalna porazdelitev**. Porazdelitev je zvezna, zato je določena z eno od dveh funkcij\n",
    "  - **[gostota verjetnosti](https://sl.wikipedia.org/wiki/Gostota_verjetnosti)**\n",
    "   $$ \\frac {1}{\\sqrt{2\\pi}}e^{-\\frac{x^2}{2}}$$\n",
    "  - **[kumulativna porazdelitvena funkcija](https://sl.wikipedia.org/wiki/Zbirna_funkcija_verjetnosti)**\n",
    "  $$ \\Phi(x) = \\frac{1}{2\\pi}\\int_{-\\infty}^x e^{-\\frac{t^2}{2}}dt $$\n",
    "  \n",
    "Kumulativna porazdelitvena funkcija $\\Phi(x)$ ni elementarna in jo računamo s [tabelo](Standardna_normalna_porazdelitev.pdf) ali z uporabo knjižnice `scipy.stats`.\n",
    "\n",
    "Vsako normalno porazdeljeno slučajno spremenljivko $X(\\mu, \\sigma)$ lahko **standardiziramo**\n",
    "\n",
    " $$ Z = \\frac{X-\\mu}{\\sigma}\\sim N(0,1),$$\n",
    " \n",
    " in dobimo slučajno spremenljivko $Z\\sim N(0,1)$, ki je porazdeljena standardno normalno."
   ]
  },
  {
   "cell_type": "markdown",
   "metadata": {},
   "source": [
    "## Naloga\n",
    "Za slučajno spremenljivko $X\\sim N(\\mu, \\sigma)$ izračuaj\n",
    " 1. $P(X<3/2)$, če je $\\mu=0$ in $\\sigma=1$\n",
    " 2. $P(X>0)$, če je $\\mu=-9$ in $\\sigma=5$\n",
    " 3. $P(0<X<3)$, če je $\\mu=2$ in $\\sigma=2$."
   ]
  },
  {
   "cell_type": "code",
   "execution_count": null,
   "metadata": {},
   "outputs": [],
   "source": []
  }
 ],
 "metadata": {
  "kernelspec": {
   "display_name": "Python 3",
   "language": "python",
   "name": "python3"
  },
  "language_info": {
   "codemirror_mode": {
    "name": "ipython",
    "version": 3
   },
   "file_extension": ".py",
   "mimetype": "text/x-python",
   "name": "python",
   "nbconvert_exporter": "python",
   "pygments_lexer": "ipython3",
   "version": "3.6.3"
  }
 },
 "nbformat": 4,
 "nbformat_minor": 2
}
