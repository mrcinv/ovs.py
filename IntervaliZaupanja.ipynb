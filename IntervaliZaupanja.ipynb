{
 "cells": [
  {
   "cell_type": "markdown",
   "metadata": {},
   "source": [
    "### 1. naloga\n",
    "Slučajna spremenljivka $X$ na populaciji ima porazdelitev $N(\\mu, \\sigma)$. Na vzorcu velikosti\n",
    "$n=121$ smo izračunali vzorčno povprečje $x=12.24$ in vzorčni odklon $s=0.6$.\n",
    "\n",
    "Določi interval zaupanja za $\\mu$ pri $\\alpha=0.05$."
   ]
  },
  {
   "cell_type": "code",
   "execution_count": 1,
   "metadata": {
    "collapsed": true
   },
   "outputs": [],
   "source": [
    "m = 12.24\n",
    "s = 0.6\n",
    "n = 121\n",
    "alpha = 0.05"
   ]
  },
  {
   "cell_type": "markdown",
   "metadata": {},
   "source": [
    "Pogledamo ustrezni kvantil ($1-\\frac{\\alpha}{2}$) studentove $t$ porazdelitve pri $n-1$ prostostnih stopnjah. Nato uporabimo ustrezno formulo."
   ]
  },
  {
   "cell_type": "code",
   "execution_count": 2,
   "metadata": {
    "collapsed": false
   },
   "outputs": [
    {
     "name": "stdout",
     "output_type": "stream",
     "text": [
      "12.13200379608803 12.34799620391197\n"
     ]
    }
   ],
   "source": [
    "from scipy.stats import t\n",
    "kvantil = t(df=n-1).ppf(1-alpha/2)\n",
    "d = s * kvantil / (n**0.5)\n",
    "print(m-d, m+d)"
   ]
  },
  {
   "cell_type": "markdown",
   "metadata": {},
   "source": [
    "Določi interval zaupanja za $\\mu$ pri $\\alpha=0.1$."
   ]
  },
  {
   "cell_type": "code",
   "execution_count": 3,
   "metadata": {
    "collapsed": false
   },
   "outputs": [
    {
     "name": "stdout",
     "output_type": "stream",
     "text": [
      "12.149582678217415 12.330417321782585\n"
     ]
    }
   ],
   "source": [
    "alpha = 0.1\n",
    "d = s*t(df=n-1).ppf(1-alpha/2)/(n**0.5)\n",
    "print(m-d, m+d)"
   ]
  },
  {
   "cell_type": "markdown",
   "metadata": {},
   "source": [
    "Da bomo lahko rezultate te naloge uporabili še v nadaljevanju, si napišimo pomožno funkcijo, ki nam vrne interval zaupanja za povprečje pri danem vzorčnem povprečju, vzorčnem standarnem odklonu, velikosti vzorca in stopnji tveganja."
   ]
  },
  {
   "cell_type": "code",
   "execution_count": 4,
   "metadata": {
    "collapsed": true
   },
   "outputs": [],
   "source": [
    "from scipy.stats import t\n",
    "def iz_povprecje(m, s, n, alpha):\n",
    "    d = s*t(df=n-1).ppf(1 - alpha/2) / (n**0.5)\n",
    "    return m - d, m + d"
   ]
  },
  {
   "cell_type": "markdown",
   "metadata": {},
   "source": [
    "Njeno delovanje preverimo."
   ]
  },
  {
   "cell_type": "code",
   "execution_count": 5,
   "metadata": {
    "collapsed": false
   },
   "outputs": [
    {
     "data": {
      "text/plain": [
       "(12.13200379608803, 12.34799620391197)"
      ]
     },
     "execution_count": 5,
     "metadata": {},
     "output_type": "execute_result"
    }
   ],
   "source": [
    "iz_povprecje(12.24, 0.6, 121, 0.05)"
   ]
  },
  {
   "cell_type": "code",
   "execution_count": 12,
   "metadata": {
    "collapsed": false
   },
   "outputs": [
    {
     "data": {
      "text/plain": [
       "(12.149582678217415, 12.330417321782585)"
      ]
     },
     "execution_count": 12,
     "metadata": {},
     "output_type": "execute_result"
    }
   ],
   "source": [
    "iz_povprecje(12.24, 0.6, 121, 0.1)"
   ]
  },
  {
   "cell_type": "markdown",
   "metadata": {},
   "source": [
    "### 2. naloga\n",
    "Statistični urad želi določiti povprečni čas študija slovenskih študentov. \n",
    "\n",
    "Anketirajo\n",
    "vzorec 10 študentov ob zaključku študija in dobijo naslednje podatke o trajanju\n",
    "študija (v letih): 5, 6, 10, 10, 9, 7, 8, 8, 9, 8.\n",
    "\n",
    "Izračunaj vzorčno povprečje $\\overline{x}$ in vzorčni odklon $s$."
   ]
  },
  {
   "cell_type": "code",
   "execution_count": 6,
   "metadata": {
    "collapsed": false
   },
   "outputs": [
    {
     "name": "stdout",
     "output_type": "stream",
     "text": [
      "Povprečje: <function mean at 0x7f1425c4c840>\n",
      "Standardni odklon: 1.632993161855452\n"
     ]
    }
   ],
   "source": [
    "from statistics import mean, stdev\n",
    "sample = [5, 6, 10, 10, 9, 7, 8, 8, 9, 8]\n",
    "alpha = 0.05\n",
    "m = mean(sample)\n",
    "s = stdev(sample)\n",
    "n = len(sample)\n",
    "print(\"Povprečje: {}\".format(mean))\n",
    "print(\"Standardni odklon: {}\".format(s))"
   ]
  },
  {
   "cell_type": "markdown",
   "metadata": {},
   "source": [
    "S stopnjo zaupanja $0.95$ določi interval zaupanja za povprečno dolžino študija. Pri reševanju si pomagamo s funkcijo, ki smo jo definirali v prvi nalogi."
   ]
  },
  {
   "cell_type": "code",
   "execution_count": 21,
   "metadata": {},
   "outputs": [
    {
     "data": {
      "text/plain": [
       "(6.831827064293376, 9.168172935706624)"
      ]
     },
     "execution_count": 21,
     "metadata": {},
     "output_type": "execute_result"
    }
   ],
   "source": [
    "iz_povprecje(m, s, n, 1-0.95)"
   ]
  },
  {
   "cell_type": "markdown",
   "metadata": {},
   "source": [
    "### 3. naloga\n",
    "\n",
    "Iz vzorca moči $n = 20$ smo dobili vzorčni odklon $s = 0.7$. Poišči interval zaupanja\n",
    "za odklon $\\sigma$ pri stopnji zaupanja $0.95$, nato pa še pri stopnji zaupanja $0.99$. Kaj\n",
    "opaziš? "
   ]
  },
  {
   "cell_type": "markdown",
   "metadata": {},
   "source": [
    "Pri reševanju naloge bomo najprej zapisali metodo iz_odklon, ki nam vrne interval zaupanja za standardni odklon."
   ]
  },
  {
   "cell_type": "code",
   "execution_count": 24,
   "metadata": {},
   "outputs": [],
   "source": [
    "from scipy.stats import chi2\n",
    "def iz_odklon(s, n, alpha):\n",
    "    return s * ((n-1) / chi2(df=n-1).ppf(1-alpha/2))**0.5, s * ((n-1) / chi2(df=n-1).ppf(alpha/2))**0.5"
   ]
  },
  {
   "cell_type": "code",
   "execution_count": 26,
   "metadata": {},
   "outputs": [
    {
     "name": "stdout",
     "output_type": "stream",
     "text": [
      "Interval zaupanja pri stopnji zaupanja 0.95\n"
     ]
    },
    {
     "data": {
      "text/plain": [
       "(0.532343276030912, 1.0224001452834532)"
      ]
     },
     "execution_count": 26,
     "metadata": {},
     "output_type": "execute_result"
    }
   ],
   "source": [
    "print(\"Interval zaupanja pri stopnji zaupanja 0.95\")\n",
    "iz_odklon(0.7, 20, 0.05)"
   ]
  },
  {
   "cell_type": "code",
   "execution_count": 27,
   "metadata": {
    "collapsed": false
   },
   "outputs": [
    {
     "name": "stdout",
     "output_type": "stream",
     "text": [
      "Interval zaupanja pri stopnji zaupanja 0.99\n"
     ]
    },
    {
     "data": {
      "text/plain": [
       "(0.49122564119675577, 1.1663281186861307)"
      ]
     },
     "execution_count": 27,
     "metadata": {},
     "output_type": "execute_result"
    }
   ],
   "source": [
    "print(\"Interval zaupanja pri stopnji zaupanja 0.99\")\n",
    "iz_odklon(0.7, 20, 0.01)"
   ]
  },
  {
   "cell_type": "markdown",
   "metadata": {},
   "source": [
    "### 4. naloga"
   ]
  },
  {
   "cell_type": "markdown",
   "metadata": {},
   "source": [
    "V slučajnem vzorcu 500 državljanov RS je bilo 452 desničarjev, in 48 levičarjev.\n",
    "Oceni delež levičarjev med Slovenci s 95% natančnostjo. "
   ]
  },
  {
   "cell_type": "markdown",
   "metadata": {},
   "source": [
    "Najprej bomo sestavili metodo iz_delez, ki vam vrne interval zaupanja za delež pri podani velikosti vzorca, številu enot v vzorcu z dano lastnostjo in dano stopnjo zaupanja."
   ]
  },
  {
   "cell_type": "code",
   "execution_count": 28,
   "metadata": {
    "collapsed": true
   },
   "outputs": [],
   "source": [
    "from scipy.stats import norm\n",
    "def iz_za_delez(n, k, alpha):\n",
    "    vp = k/n\n",
    "    d = norm.ppf(1-alpha/2)*(vp*(1-vp)/n)**0.5\n",
    "    return vp - d, vp + d"
   ]
  },
  {
   "cell_type": "code",
   "execution_count": 29,
   "metadata": {
    "collapsed": false
   },
   "outputs": [
    {
     "data": {
      "text/plain": [
       "(0.07017841359268881, 0.1218215864073112)"
      ]
     },
     "execution_count": 29,
     "metadata": {},
     "output_type": "execute_result"
    }
   ],
   "source": [
    "iz_za_delez(n=500, k=48, alpha=0.05)"
   ]
  },
  {
   "cell_type": "markdown",
   "metadata": {},
   "source": [
    "### 5. naloga"
   ]
  },
  {
   "cell_type": "markdown",
   "metadata": {},
   "source": [
    "V anketi je sodelovalo 1112 ljudi. Od teh jih je 701 menilo, da predsednik dobro\n",
    "opravlja svoje delo. Poišči 95% interval zaupanja za delež ljudi, ki menijo, da\n",
    "predsednik dela dobro."
   ]
  },
  {
   "cell_type": "code",
   "execution_count": 30,
   "metadata": {
    "collapsed": false
   },
   "outputs": [
    {
     "data": {
      "text/plain": [
       "(0.6020249325872795, 0.6587664343191952)"
      ]
     },
     "execution_count": 30,
     "metadata": {},
     "output_type": "execute_result"
    }
   ],
   "source": [
    "iz_za_delez(n=1112, k=701, alpha=0.05)"
   ]
  }
 ],
 "metadata": {
  "kernelspec": {
   "display_name": "Python 3",
   "language": "python",
   "name": "python3"
  },
  "language_info": {
   "codemirror_mode": {
    "name": "ipython",
    "version": 3
   },
   "file_extension": ".py",
   "mimetype": "text/x-python",
   "name": "python",
   "nbconvert_exporter": "python",
   "pygments_lexer": "ipython3",
   "version": "3.6.5"
  }
 },
 "nbformat": 4,
 "nbformat_minor": 2
}
